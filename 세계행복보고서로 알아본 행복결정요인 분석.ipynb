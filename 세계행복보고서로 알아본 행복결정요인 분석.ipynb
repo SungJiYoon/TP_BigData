{
 "cells": [
  {
   "cell_type": "markdown",
   "id": "4789bf73",
   "metadata": {},
   "source": [
    "### BigData TermProject\n",
    "# [세계행복보고서로 알아본 행복결정요인 분석]\n",
    "#### 20192144 성지윤\n",
    "#### 20182152 최한얼"
   ]
  },
  {
   "attachments": {},
   "cell_type": "markdown",
   "id": "c350d68f",
   "metadata": {},
   "source": [
    "[목차]\n",
    "1. 서론\n",
    "    \n",
    "    \n",
    "2. 행복 데이터 분석\n",
    "\n",
    "    2.1. 데이터 전처리\n",
    "\n",
    "    2.2. 한국 행복 데이터분석\n",
    "\n",
    "        2.2.1. 2015년 ~ 2022년 한국의 행복지수 변화\n",
    "\n",
    "        2.2.2. 현재(2022년) 한국의 행복지수\n",
    "\n",
    "        2.2.3. 2015년 ~ 2022년 한국의 행복결정요인별 변화\n",
    "\n",
    "        2.2.4. 현재(2022년) 한국의 행복결정요인 분석\n",
    "\n",
    "    2.3. 한중일 행복 데이터 비교\n",
    "\n",
    "    2.4. 행복지수 세계지도 시각화\n",
    "\n",
    "    2.5. 2022 세계 행복지수 순위\n",
    "\n",
    "        2.5.1. 가장 행복한 국가 top5\n",
    "\n",
    "        2.5.2. 가장 불행한 국가 top5\n",
    "\n",
    "        2.5.3. 행복한 국가들과 불행한 국가들 비교 분석\n",
    "\n",
    "    2.6. 행복지수가 가장 많이 성장, 하락한 국가 분석\n",
    "\n",
    "        2.6.1. 2015년과 2022년(현재)을 비교했을 때 행복지수가 가장 많이 성장, 하락한 나라 찾기\n",
    "\n",
    "        2.6.2. 행복지수가 가장 많이 성장한 5개 국가 행복결정요인 분석\n",
    "\n",
    "        2.6.3. 행복지수가 가장 많이 하락한 5개 국가 행복결정요인 분석\n",
    "\n",
    "\n",
    "3. 결론\n",
    "\n",
    "    3.1. 히트맵을 통한 행복지수와 행복결정요인별 상관관계 시각화\n",
    "\n",
    "    3.2. 느낀점"
   ]
  },
  {
   "cell_type": "markdown",
   "id": "b8d15868",
   "metadata": {},
   "source": [
    "# 1. 서론"
   ]
  },
  {
   "attachments": {},
   "cell_type": "markdown",
   "id": "a1b69687",
   "metadata": {},
   "source": [
    " 인간의 행복에 대한 관심이 전 세계적으로 고조되면서, 행복의 개념, 행복의 결정요인, 행복 공식, 행복 수준 등에 대한 연구가 여전히 진행되고 있다.\n",
    "\n",
    "  경제적으로는 윤택해지고 있으나, 인간들의 행복에 대한 관심이 더 높아지는 이유는, 행복은 반드시 ‘삶의 질’ 또는 ‘생활 수준’ 과 관련이 있는 것이 아니며, 사회에 따라 행복 기준이 달리 나타나는 것으로 파악되기 때문이다.\n",
    "\n",
    "  그렇기에 우리는 8년간의 세계 행복 보고서 데이터 분석을 통해, 전세계 국가들의 행복 지수와 행복 결정 요인간의 상관관계를 알아보겠다."
   ]
  },
  {
   "cell_type": "markdown",
   "id": "ced58731",
   "metadata": {},
   "source": [
    "< 본 과제에 활용된 데이터들 >\n",
    "\n",
    "세계 행복 보고서 - 캐글\n",
    "https://www.kaggle.com/datasets/shivkumarganesh/world-happiness-report-20152022\n",
    "\n",
    "국가코드가 있는 데이터셋 - 깃허브\n",
    "https://github.com/plotly/datasets/blob/master/2014_world_gdp_with_codes.csv\n",
    "\n",
    "참고 사이트 - 나무위키\n",
    "https://ko.wikipedia.org/wiki/%EA%B5%AD%EA%B0%80%EB%B3%84_%EA%B5%AD%EA%B0%80_%EC%BD%94%EB%93%9C_%EB%AA%A9%EB%A1%9D"
   ]
  },
  {
   "cell_type": "markdown",
   "id": "a983cc63",
   "metadata": {},
   "source": [
    "# 2. 행복 데이터 분석"
   ]
  },
  {
   "cell_type": "markdown",
   "id": "8039ed40",
   "metadata": {},
   "source": [
    "## 2.1. 데이터 전처리"
   ]
  },
  {
   "cell_type": "code",
   "execution_count": 139,
   "id": "97ed61fa",
   "metadata": {},
   "outputs": [
    {
     "name": "stdout",
     "output_type": "stream",
     "text": [
      "Requirement already satisfied: kaggle in c:\\users\\zxq01\\anaconda3\\lib\\site-packages (1.5.12)\n",
      "Requirement already satisfied: certifi in c:\\users\\zxq01\\anaconda3\\lib\\site-packages (from kaggle) (2021.10.8)\n",
      "Requirement already satisfied: python-slugify in c:\\users\\zxq01\\anaconda3\\lib\\site-packages (from kaggle) (5.0.2)\n",
      "Requirement already satisfied: python-dateutil in c:\\users\\zxq01\\anaconda3\\lib\\site-packages (from kaggle) (2.8.2)\n",
      "Requirement already satisfied: six>=1.10 in c:\\users\\zxq01\\anaconda3\\lib\\site-packages (from kaggle) (1.16.0)\n",
      "Requirement already satisfied: requests in c:\\users\\zxq01\\anaconda3\\lib\\site-packages (from kaggle) (2.27.1)\n",
      "Requirement already satisfied: tqdm in c:\\users\\zxq01\\anaconda3\\lib\\site-packages (from kaggle) (4.64.0)\n",
      "Requirement already satisfied: urllib3 in c:\\users\\zxq01\\anaconda3\\lib\\site-packages (from kaggle) (1.26.9)\n",
      "Requirement already satisfied: text-unidecode>=1.3 in c:\\users\\zxq01\\anaconda3\\lib\\site-packages (from python-slugify->kaggle) (1.3)\n",
      "Requirement already satisfied: idna<4,>=2.5 in c:\\users\\zxq01\\anaconda3\\lib\\site-packages (from requests->kaggle) (3.3)\n",
      "Requirement already satisfied: charset-normalizer~=2.0.0 in c:\\users\\zxq01\\anaconda3\\lib\\site-packages (from requests->kaggle) (2.0.4)\n",
      "Requirement already satisfied: colorama in c:\\users\\zxq01\\anaconda3\\lib\\site-packages (from tqdm->kaggle) (0.4.4)\n"
     ]
    },
    {
     "name": "stderr",
     "output_type": "stream",
     "text": [
      "WARNING: Ignoring invalid distribution -pype1 (c:\\users\\zxq01\\anaconda3\\lib\\site-packages)\n",
      "WARNING: Ignoring invalid distribution -pype1 (c:\\users\\zxq01\\anaconda3\\lib\\site-packages)\n",
      "WARNING: Ignoring invalid distribution -pype1 (c:\\users\\zxq01\\anaconda3\\lib\\site-packages)\n",
      "WARNING: Ignoring invalid distribution -pype1 (c:\\users\\zxq01\\anaconda3\\lib\\site-packages)\n",
      "WARNING: Ignoring invalid distribution -pype1 (c:\\users\\zxq01\\anaconda3\\lib\\site-packages)\n",
      "WARNING: Ignoring invalid distribution -pype1 (c:\\users\\zxq01\\anaconda3\\lib\\site-packages)\n"
     ]
    }
   ],
   "source": [
    "!pip install kaggle"
   ]
  },
  {
   "cell_type": "code",
   "execution_count": 140,
   "id": "f813331c",
   "metadata": {},
   "outputs": [],
   "source": [
    "import os\n",
    "import seaborn as sns\n",
    "import matplotlib.pyplot as plt\n",
    "import matplotlib\n",
    "import numpy as np\n",
    "import pandas as pd\n",
    "import shutil\n",
    "import plotly.graph_objects as go\n",
    "matplotlib.rcParams['font.family'] = 'Malgun Gothic'\n",
    "\n",
    "# 색상코드\n",
    "red = '#E24A33'\n",
    "blue = '#348ABD'"
   ]
  },
  {
   "cell_type": "code",
   "execution_count": 141,
   "id": "5dc2b258",
   "metadata": {},
   "outputs": [],
   "source": [
    "# 캐글 키\n",
    "os.environ['KAGGLE_USERNAME'] = 'haneolchoi'\n",
    "os.environ['KAGGLE_KEY'] = '27a19496997c104d22e87f5a37e4b47d'"
   ]
  },
  {
   "cell_type": "code",
   "execution_count": 142,
   "id": "c268b125",
   "metadata": {},
   "outputs": [
    {
     "name": "stdout",
     "output_type": "stream",
     "text": [
      "world-happiness-report.zip: Skipping, found more recently modified local copy (use --force to force download)\n"
     ]
    }
   ],
   "source": [
    "# 데이터셋 다운(세계 행복 보고서)\n",
    "!kaggle datasets download -d mathurinache/world-happiness-report"
   ]
  },
  {
   "cell_type": "code",
   "execution_count": 143,
   "id": "c09613bc",
   "metadata": {},
   "outputs": [],
   "source": [
    "# 압축해제\n",
    "filename = './world-happiness-report.zip'\n",
    "extract_dir = './world-happiness-report'\n",
    "archive_format = 'zip'\n",
    "\n",
    "shutil.unpack_archive(filename, extract_dir, archive_format)"
   ]
  },
  {
   "cell_type": "code",
   "execution_count": 144,
   "id": "9aff10fb",
   "metadata": {},
   "outputs": [
    {
     "data": {
      "text/html": [
       "<div>\n",
       "<style scoped>\n",
       "    .dataframe tbody tr th:only-of-type {\n",
       "        vertical-align: middle;\n",
       "    }\n",
       "\n",
       "    .dataframe tbody tr th {\n",
       "        vertical-align: top;\n",
       "    }\n",
       "\n",
       "    .dataframe thead th {\n",
       "        text-align: right;\n",
       "    }\n",
       "</style>\n",
       "<table border=\"1\" class=\"dataframe\">\n",
       "  <thead>\n",
       "    <tr style=\"text-align: right;\">\n",
       "      <th></th>\n",
       "      <th>RANK</th>\n",
       "      <th>Country</th>\n",
       "      <th>Happiness score</th>\n",
       "      <th>Whisker-high</th>\n",
       "      <th>Whisker-low</th>\n",
       "      <th>Dystopia (1.83) + residual</th>\n",
       "      <th>Explained by: GDP per capita</th>\n",
       "      <th>Explained by: Social support</th>\n",
       "      <th>Explained by: Healthy life expectancy</th>\n",
       "      <th>Explained by: Freedom to make life choices</th>\n",
       "      <th>Explained by: Generosity</th>\n",
       "      <th>Explained by: Perceptions of corruption</th>\n",
       "    </tr>\n",
       "  </thead>\n",
       "  <tbody>\n",
       "    <tr>\n",
       "      <th>0</th>\n",
       "      <td>1</td>\n",
       "      <td>Finland</td>\n",
       "      <td>7,821</td>\n",
       "      <td>7,886</td>\n",
       "      <td>7,756</td>\n",
       "      <td>2,518</td>\n",
       "      <td>1,892</td>\n",
       "      <td>1,258</td>\n",
       "      <td>0,775</td>\n",
       "      <td>0,736</td>\n",
       "      <td>0,109</td>\n",
       "      <td>0,534</td>\n",
       "    </tr>\n",
       "    <tr>\n",
       "      <th>1</th>\n",
       "      <td>2</td>\n",
       "      <td>Denmark</td>\n",
       "      <td>7,636</td>\n",
       "      <td>7,710</td>\n",
       "      <td>7,563</td>\n",
       "      <td>2,226</td>\n",
       "      <td>1,953</td>\n",
       "      <td>1,243</td>\n",
       "      <td>0,777</td>\n",
       "      <td>0,719</td>\n",
       "      <td>0,188</td>\n",
       "      <td>0,532</td>\n",
       "    </tr>\n",
       "    <tr>\n",
       "      <th>2</th>\n",
       "      <td>3</td>\n",
       "      <td>Iceland</td>\n",
       "      <td>7,557</td>\n",
       "      <td>7,651</td>\n",
       "      <td>7,464</td>\n",
       "      <td>2,320</td>\n",
       "      <td>1,936</td>\n",
       "      <td>1,320</td>\n",
       "      <td>0,803</td>\n",
       "      <td>0,718</td>\n",
       "      <td>0,270</td>\n",
       "      <td>0,191</td>\n",
       "    </tr>\n",
       "    <tr>\n",
       "      <th>3</th>\n",
       "      <td>4</td>\n",
       "      <td>Switzerland</td>\n",
       "      <td>7,512</td>\n",
       "      <td>7,586</td>\n",
       "      <td>7,437</td>\n",
       "      <td>2,153</td>\n",
       "      <td>2,026</td>\n",
       "      <td>1,226</td>\n",
       "      <td>0,822</td>\n",
       "      <td>0,677</td>\n",
       "      <td>0,147</td>\n",
       "      <td>0,461</td>\n",
       "    </tr>\n",
       "    <tr>\n",
       "      <th>4</th>\n",
       "      <td>5</td>\n",
       "      <td>Netherlands</td>\n",
       "      <td>7,415</td>\n",
       "      <td>7,471</td>\n",
       "      <td>7,359</td>\n",
       "      <td>2,137</td>\n",
       "      <td>1,945</td>\n",
       "      <td>1,206</td>\n",
       "      <td>0,787</td>\n",
       "      <td>0,651</td>\n",
       "      <td>0,271</td>\n",
       "      <td>0,419</td>\n",
       "    </tr>\n",
       "    <tr>\n",
       "      <th>...</th>\n",
       "      <td>...</td>\n",
       "      <td>...</td>\n",
       "      <td>...</td>\n",
       "      <td>...</td>\n",
       "      <td>...</td>\n",
       "      <td>...</td>\n",
       "      <td>...</td>\n",
       "      <td>...</td>\n",
       "      <td>...</td>\n",
       "      <td>...</td>\n",
       "      <td>...</td>\n",
       "      <td>...</td>\n",
       "    </tr>\n",
       "    <tr>\n",
       "      <th>142</th>\n",
       "      <td>143</td>\n",
       "      <td>Rwanda*</td>\n",
       "      <td>3,268</td>\n",
       "      <td>3,462</td>\n",
       "      <td>3,074</td>\n",
       "      <td>0,536</td>\n",
       "      <td>0,785</td>\n",
       "      <td>0,133</td>\n",
       "      <td>0,462</td>\n",
       "      <td>0,621</td>\n",
       "      <td>0,187</td>\n",
       "      <td>0,544</td>\n",
       "    </tr>\n",
       "    <tr>\n",
       "      <th>143</th>\n",
       "      <td>144</td>\n",
       "      <td>Zimbabwe</td>\n",
       "      <td>2,995</td>\n",
       "      <td>3,110</td>\n",
       "      <td>2,880</td>\n",
       "      <td>0,548</td>\n",
       "      <td>0,947</td>\n",
       "      <td>0,690</td>\n",
       "      <td>0,270</td>\n",
       "      <td>0,329</td>\n",
       "      <td>0,106</td>\n",
       "      <td>0,105</td>\n",
       "    </tr>\n",
       "    <tr>\n",
       "      <th>144</th>\n",
       "      <td>145</td>\n",
       "      <td>Lebanon</td>\n",
       "      <td>2,955</td>\n",
       "      <td>3,049</td>\n",
       "      <td>2,862</td>\n",
       "      <td>0,216</td>\n",
       "      <td>1,392</td>\n",
       "      <td>0,498</td>\n",
       "      <td>0,631</td>\n",
       "      <td>0,103</td>\n",
       "      <td>0,082</td>\n",
       "      <td>0,034</td>\n",
       "    </tr>\n",
       "    <tr>\n",
       "      <th>145</th>\n",
       "      <td>146</td>\n",
       "      <td>Afghanistan</td>\n",
       "      <td>2,404</td>\n",
       "      <td>2,469</td>\n",
       "      <td>2,339</td>\n",
       "      <td>1,263</td>\n",
       "      <td>0,758</td>\n",
       "      <td>0,000</td>\n",
       "      <td>0,289</td>\n",
       "      <td>0,000</td>\n",
       "      <td>0,089</td>\n",
       "      <td>0,005</td>\n",
       "    </tr>\n",
       "    <tr>\n",
       "      <th>146</th>\n",
       "      <td>147</td>\n",
       "      <td>xx</td>\n",
       "      <td>NaN</td>\n",
       "      <td>NaN</td>\n",
       "      <td>NaN</td>\n",
       "      <td>NaN</td>\n",
       "      <td>NaN</td>\n",
       "      <td>NaN</td>\n",
       "      <td>NaN</td>\n",
       "      <td>NaN</td>\n",
       "      <td>NaN</td>\n",
       "      <td>NaN</td>\n",
       "    </tr>\n",
       "  </tbody>\n",
       "</table>\n",
       "<p>147 rows × 12 columns</p>\n",
       "</div>"
      ],
      "text/plain": [
       "     RANK      Country Happiness score Whisker-high Whisker-low  \\\n",
       "0       1      Finland           7,821        7,886       7,756   \n",
       "1       2      Denmark           7,636        7,710       7,563   \n",
       "2       3      Iceland           7,557        7,651       7,464   \n",
       "3       4  Switzerland           7,512        7,586       7,437   \n",
       "4       5  Netherlands           7,415        7,471       7,359   \n",
       "..    ...          ...             ...          ...         ...   \n",
       "142   143      Rwanda*           3,268        3,462       3,074   \n",
       "143   144     Zimbabwe           2,995        3,110       2,880   \n",
       "144   145      Lebanon           2,955        3,049       2,862   \n",
       "145   146  Afghanistan           2,404        2,469       2,339   \n",
       "146   147           xx             NaN          NaN         NaN   \n",
       "\n",
       "    Dystopia (1.83) + residual Explained by: GDP per capita  \\\n",
       "0                        2,518                        1,892   \n",
       "1                        2,226                        1,953   \n",
       "2                        2,320                        1,936   \n",
       "3                        2,153                        2,026   \n",
       "4                        2,137                        1,945   \n",
       "..                         ...                          ...   \n",
       "142                      0,536                        0,785   \n",
       "143                      0,548                        0,947   \n",
       "144                      0,216                        1,392   \n",
       "145                      1,263                        0,758   \n",
       "146                        NaN                          NaN   \n",
       "\n",
       "    Explained by: Social support Explained by: Healthy life expectancy  \\\n",
       "0                          1,258                                 0,775   \n",
       "1                          1,243                                 0,777   \n",
       "2                          1,320                                 0,803   \n",
       "3                          1,226                                 0,822   \n",
       "4                          1,206                                 0,787   \n",
       "..                           ...                                   ...   \n",
       "142                        0,133                                 0,462   \n",
       "143                        0,690                                 0,270   \n",
       "144                        0,498                                 0,631   \n",
       "145                        0,000                                 0,289   \n",
       "146                          NaN                                   NaN   \n",
       "\n",
       "    Explained by: Freedom to make life choices Explained by: Generosity  \\\n",
       "0                                        0,736                    0,109   \n",
       "1                                        0,719                    0,188   \n",
       "2                                        0,718                    0,270   \n",
       "3                                        0,677                    0,147   \n",
       "4                                        0,651                    0,271   \n",
       "..                                         ...                      ...   \n",
       "142                                      0,621                    0,187   \n",
       "143                                      0,329                    0,106   \n",
       "144                                      0,103                    0,082   \n",
       "145                                      0,000                    0,089   \n",
       "146                                        NaN                      NaN   \n",
       "\n",
       "    Explained by: Perceptions of corruption  \n",
       "0                                     0,534  \n",
       "1                                     0,532  \n",
       "2                                     0,191  \n",
       "3                                     0,461  \n",
       "4                                     0,419  \n",
       "..                                      ...  \n",
       "142                                   0,544  \n",
       "143                                   0,105  \n",
       "144                                   0,034  \n",
       "145                                   0,005  \n",
       "146                                     NaN  \n",
       "\n",
       "[147 rows x 12 columns]"
      ]
     },
     "execution_count": 144,
     "metadata": {},
     "output_type": "execute_result"
    }
   ],
   "source": [
    "# 2022년 세계행복보고서 데이터셋 내용 확인\n",
    "filedata = pd.read_csv(\"./world-happiness-report/2022.csv\")\n",
    "df = pd.DataFrame(filedata)\n",
    "df"
   ]
  },
  {
   "cell_type": "code",
   "execution_count": 145,
   "id": "08d8a4a2",
   "metadata": {
    "scrolled": false
   },
   "outputs": [
    {
     "name": "stdout",
     "output_type": "stream",
     "text": [
      "2015년의 컬럼명\n",
      "Country\n",
      "Region\n",
      "Happiness Rank\n",
      "Happiness Score\n",
      "Standard Error\n",
      "Economy (GDP per Capita)\n",
      "Family\n",
      "Health (Life Expectancy)\n",
      "Freedom\n",
      "Trust (Government Corruption)\n",
      "Generosity\n",
      "Dystopia Residual\n",
      "\n",
      "2016년의 컬럼명\n",
      "Country\n",
      "Region\n",
      "Happiness Rank\n",
      "Happiness Score\n",
      "Lower Confidence Interval\n",
      "Upper Confidence Interval\n",
      "Economy (GDP per Capita)\n",
      "Family\n",
      "Health (Life Expectancy)\n",
      "Freedom\n",
      "Trust (Government Corruption)\n",
      "Generosity\n",
      "Dystopia Residual\n",
      "\n",
      "2017년의 컬럼명\n",
      "Country\n",
      "Happiness.Rank\n",
      "Happiness.Score\n",
      "Whisker.high\n",
      "Whisker.low\n",
      "Economy..GDP.per.Capita.\n",
      "Family\n",
      "Health..Life.Expectancy.\n",
      "Freedom\n",
      "Generosity\n",
      "Trust..Government.Corruption.\n",
      "Dystopia.Residual\n",
      "\n",
      "2018년의 컬럼명\n",
      "Overall rank\n",
      "Country or region\n",
      "Score\n",
      "GDP per capita\n",
      "Social support\n",
      "Healthy life expectancy\n",
      "Freedom to make life choices\n",
      "Generosity\n",
      "Perceptions of corruption\n",
      "\n",
      "2019년의 컬럼명\n",
      "Overall rank\n",
      "Country or region\n",
      "Score\n",
      "GDP per capita\n",
      "Social support\n",
      "Healthy life expectancy\n",
      "Freedom to make life choices\n",
      "Generosity\n",
      "Perceptions of corruption\n",
      "\n",
      "2020년의 컬럼명\n",
      "Country name\n",
      "Regional indicator\n",
      "Ladder score\n",
      "Standard error of ladder score\n",
      "upperwhisker\n",
      "lowerwhisker\n",
      "Logged GDP per capita\n",
      "Social support\n",
      "Healthy life expectancy\n",
      "Freedom to make life choices\n",
      "Generosity\n",
      "Perceptions of corruption\n",
      "Ladder score in Dystopia\n",
      "Explained by: Log GDP per capita\n",
      "Explained by: Social support\n",
      "Explained by: Healthy life expectancy\n",
      "Explained by: Freedom to make life choices\n",
      "Explained by: Generosity\n",
      "Explained by: Perceptions of corruption\n",
      "Dystopia + residual\n",
      "\n",
      "2021년의 컬럼명\n",
      "Country name\n",
      "Regional indicator\n",
      "Ladder score\n",
      "Standard error of ladder score\n",
      "upperwhisker\n",
      "lowerwhisker\n",
      "Logged GDP per capita\n",
      "Social support\n",
      "Healthy life expectancy\n",
      "Freedom to make life choices\n",
      "Generosity\n",
      "Perceptions of corruption\n",
      "Ladder score in Dystopia\n",
      "Explained by: Log GDP per capita\n",
      "Explained by: Social support\n",
      "Explained by: Healthy life expectancy\n",
      "Explained by: Freedom to make life choices\n",
      "Explained by: Generosity\n",
      "Explained by: Perceptions of corruption\n",
      "Dystopia + residual\n",
      "\n",
      "2022년의 컬럼명\n",
      "RANK\n",
      "Country\n",
      "Happiness score\n",
      "Whisker-high\n",
      "Whisker-low\n",
      "Dystopia (1.83) + residual\n",
      "Explained by: GDP per capita\n",
      "Explained by: Social support\n",
      "Explained by: Healthy life expectancy\n",
      "Explained by: Freedom to make life choices\n",
      "Explained by: Generosity\n",
      "Explained by: Perceptions of corruption\n",
      "\n"
     ]
    }
   ],
   "source": [
    "data = []\n",
    "for i in range(2015,2023):\n",
    "    filename = str(i) + '.csv'\n",
    "    data.append(pd.read_csv(\"./world-happiness-report/\"+filename))\n",
    "\n",
    "for i in range(0, len(data)):\n",
    "    print(f'{i+2015}년의 컬럼명')\n",
    "    for j in range(0, len(data[i].columns)):\n",
    "        print(data[i].columns[j])\n",
    "    print()\n",
    "    \n",
    "# 각 csv파일의 컬럼명이 다른것을 알 수 있다. \n",
    "# 데이터처리를 위해 컬럼명을 통일해야한다."
   ]
  },
  {
   "cell_type": "code",
   "execution_count": 146,
   "id": "f0253d69",
   "metadata": {},
   "outputs": [],
   "source": [
    "# 전처리 데이터를 넣기 위한 폴더 생성\n",
    "# 이미 존재하면 아무것도 하지 않음\n",
    "os.makedirs('data_dir', exist_ok=True)"
   ]
  },
  {
   "cell_type": "markdown",
   "id": "c68ad642",
   "metadata": {},
   "source": [
    "### 행복지수: 얼마나 행복한가\n",
    "### 경제성(GDP): 국내총생산을 인구 수로 나눈 값, 국민들의 평균적인 소득 수준을 나타냄\n",
    "### 인간관계: 당신의 삶에 문제가 생겼을 때 당신을 위해 무슨 일이든 도와줄 수 있는 가족이나 친구가 있는가\n",
    "### 건강 기대 수명: 국민들이 건강한 상태로 얼마나 오래 사느냐\n",
    "### 자유: 무엇을 할지 결정할 자유를 충분이 느끼고 있는가?\n",
    "### 기부: 기부를 한 적이 있는가(이 수치가 낮으면 그만큼 그 나라의 분위기가 각박하다는 뜻)\n",
    "### 부패 인식 정도: 그 국가의 정부 및 기업에 부패가 만연하다고 생각하는가"
   ]
  },
  {
   "cell_type": "code",
   "execution_count": 147,
   "id": "c8b988e0",
   "metadata": {},
   "outputs": [],
   "source": [
    "# 컬럼을 통합하기 위한 빈 데이터프레임 생성\n",
    "new_dataframe = pd.DataFrame(columns=['국가', '행복지수', '경제성(GDP)', '인간관계','건강 기대 수명', '자유', '기부', '부패 인식 정도'])\n",
    "\n",
    "year = 2015\n",
    "for i in data:    \n",
    "    \n",
    "    country = 0\n",
    "    score = 0\n",
    "    \n",
    "    for j in range(0, len(i.columns)):\n",
    "        if year == 2022:\n",
    "            i[i.columns[j]] = i[i.columns[j]].astype(str).str.replace(',','.')\n",
    "        if ('Country' in i.columns[j]):\n",
    "            i[i.columns[j]] = i[i.columns[j]].str.replace(pat=r'[^\\w ]', repl=r'', regex=True)   #국가의 특수문자 제거(띄어쓰기는 살리고)\n",
    "            new_dataframe.loc[:,'국가'] = i.loc[:,i.columns[j]]\n",
    "            country = 1\n",
    "        elif ('Score' in i.columns[j] or 'Ladder score' in i.columns[j] or 'Happiness score' in i.columns[j])  and score == 0:  \n",
    "            new_dataframe.loc[:,'행복지수'] = i.loc[:,i.columns[j]]\n",
    "            score = 1\n",
    "        elif ('support' in i.columns[j] or 'Social support' in i.columns[j] or 'Family' in i.columns[j]):  \n",
    "            new_dataframe.loc[:,'인간관계'] = i.loc[:,i.columns[j]]\n",
    "            score = 1\n",
    "        elif 'GDP' in i.columns[j]:\n",
    "            new_dataframe.loc[:,'경제성(GDP)'] = i.loc[:,i.columns[j]]\n",
    "            gdp = 1\n",
    "        elif ('Health' in i.columns[j]): \n",
    "            new_dataframe.loc[:,'건강 기대 수명'] = i.loc[:,i.columns[j]]\n",
    "            health = 1\n",
    "        elif 'Freedom' in i.columns[j]:\n",
    "            new_dataframe.loc[:,'자유'] = i.loc[:,i.columns[j]]\n",
    "            freedom = 1\n",
    "        elif 'Generosity' in i.columns[j]:\n",
    "            new_dataframe.loc[:,'기부'] = i.loc[:,i.columns[j]]\n",
    "            generosity = 1\n",
    "        elif ('corruption' in i.columns[j] or 'Corruption' in i.columns[j]):\n",
    "            new_dataframe.loc[:,'부패 인식 정도'] = i.loc[:,i.columns[j]]\n",
    "            corruption = 1\n",
    "   \n",
    "    new_dataframe = new_dataframe.dropna(axis=0)   # 결측값이 있는 행 지우기 (NaN)\n",
    "    new_dataframe.to_csv('./data_dir/data' + str(year) + '.csv', index=False, encoding=\"cp949\")\n",
    "    year += 1"
   ]
  },
  {
   "cell_type": "code",
   "execution_count": 148,
   "id": "250ac18f",
   "metadata": {
    "scrolled": true
   },
   "outputs": [
    {
     "data": {
      "text/html": [
       "<div>\n",
       "<style scoped>\n",
       "    .dataframe tbody tr th:only-of-type {\n",
       "        vertical-align: middle;\n",
       "    }\n",
       "\n",
       "    .dataframe tbody tr th {\n",
       "        vertical-align: top;\n",
       "    }\n",
       "\n",
       "    .dataframe thead th {\n",
       "        text-align: right;\n",
       "    }\n",
       "</style>\n",
       "<table border=\"1\" class=\"dataframe\">\n",
       "  <thead>\n",
       "    <tr style=\"text-align: right;\">\n",
       "      <th></th>\n",
       "      <th>국가</th>\n",
       "      <th>행복지수</th>\n",
       "      <th>경제성(GDP)</th>\n",
       "      <th>인간관계</th>\n",
       "      <th>건강 기대 수명</th>\n",
       "      <th>자유</th>\n",
       "      <th>기부</th>\n",
       "      <th>부패 인식 정도</th>\n",
       "    </tr>\n",
       "  </thead>\n",
       "  <tbody>\n",
       "    <tr>\n",
       "      <th>0</th>\n",
       "      <td>Finland</td>\n",
       "      <td>7.821</td>\n",
       "      <td>1.892</td>\n",
       "      <td>1.258</td>\n",
       "      <td>0.775</td>\n",
       "      <td>0.736</td>\n",
       "      <td>0.109</td>\n",
       "      <td>0.534</td>\n",
       "    </tr>\n",
       "    <tr>\n",
       "      <th>1</th>\n",
       "      <td>Denmark</td>\n",
       "      <td>7.636</td>\n",
       "      <td>1.953</td>\n",
       "      <td>1.243</td>\n",
       "      <td>0.777</td>\n",
       "      <td>0.719</td>\n",
       "      <td>0.188</td>\n",
       "      <td>0.532</td>\n",
       "    </tr>\n",
       "    <tr>\n",
       "      <th>2</th>\n",
       "      <td>Iceland</td>\n",
       "      <td>7.557</td>\n",
       "      <td>1.936</td>\n",
       "      <td>1.320</td>\n",
       "      <td>0.803</td>\n",
       "      <td>0.718</td>\n",
       "      <td>0.270</td>\n",
       "      <td>0.191</td>\n",
       "    </tr>\n",
       "    <tr>\n",
       "      <th>3</th>\n",
       "      <td>Switzerland</td>\n",
       "      <td>7.512</td>\n",
       "      <td>2.026</td>\n",
       "      <td>1.226</td>\n",
       "      <td>0.822</td>\n",
       "      <td>0.677</td>\n",
       "      <td>0.147</td>\n",
       "      <td>0.461</td>\n",
       "    </tr>\n",
       "    <tr>\n",
       "      <th>4</th>\n",
       "      <td>Netherlands</td>\n",
       "      <td>7.415</td>\n",
       "      <td>1.945</td>\n",
       "      <td>1.206</td>\n",
       "      <td>0.787</td>\n",
       "      <td>0.651</td>\n",
       "      <td>0.271</td>\n",
       "      <td>0.419</td>\n",
       "    </tr>\n",
       "    <tr>\n",
       "      <th>...</th>\n",
       "      <td>...</td>\n",
       "      <td>...</td>\n",
       "      <td>...</td>\n",
       "      <td>...</td>\n",
       "      <td>...</td>\n",
       "      <td>...</td>\n",
       "      <td>...</td>\n",
       "      <td>...</td>\n",
       "    </tr>\n",
       "    <tr>\n",
       "      <th>140</th>\n",
       "      <td>Botswana</td>\n",
       "      <td>3.471</td>\n",
       "      <td>1.503</td>\n",
       "      <td>0.815</td>\n",
       "      <td>0.280</td>\n",
       "      <td>0.571</td>\n",
       "      <td>0.012</td>\n",
       "      <td>0.102</td>\n",
       "    </tr>\n",
       "    <tr>\n",
       "      <th>141</th>\n",
       "      <td>Rwanda</td>\n",
       "      <td>3.268</td>\n",
       "      <td>0.785</td>\n",
       "      <td>0.133</td>\n",
       "      <td>0.462</td>\n",
       "      <td>0.621</td>\n",
       "      <td>0.187</td>\n",
       "      <td>0.544</td>\n",
       "    </tr>\n",
       "    <tr>\n",
       "      <th>142</th>\n",
       "      <td>Zimbabwe</td>\n",
       "      <td>2.995</td>\n",
       "      <td>0.947</td>\n",
       "      <td>0.690</td>\n",
       "      <td>0.270</td>\n",
       "      <td>0.329</td>\n",
       "      <td>0.106</td>\n",
       "      <td>0.105</td>\n",
       "    </tr>\n",
       "    <tr>\n",
       "      <th>143</th>\n",
       "      <td>Lebanon</td>\n",
       "      <td>2.955</td>\n",
       "      <td>1.392</td>\n",
       "      <td>0.498</td>\n",
       "      <td>0.631</td>\n",
       "      <td>0.103</td>\n",
       "      <td>0.082</td>\n",
       "      <td>0.034</td>\n",
       "    </tr>\n",
       "    <tr>\n",
       "      <th>144</th>\n",
       "      <td>Afghanistan</td>\n",
       "      <td>2.404</td>\n",
       "      <td>0.758</td>\n",
       "      <td>0.000</td>\n",
       "      <td>0.289</td>\n",
       "      <td>0.000</td>\n",
       "      <td>0.089</td>\n",
       "      <td>0.005</td>\n",
       "    </tr>\n",
       "  </tbody>\n",
       "</table>\n",
       "<p>145 rows × 8 columns</p>\n",
       "</div>"
      ],
      "text/plain": [
       "              국가   행복지수  경제성(GDP)   인간관계  건강 기대 수명     자유     기부  부패 인식 정도\n",
       "0        Finland  7.821     1.892  1.258     0.775  0.736  0.109     0.534\n",
       "1        Denmark  7.636     1.953  1.243     0.777  0.719  0.188     0.532\n",
       "2        Iceland  7.557     1.936  1.320     0.803  0.718  0.270     0.191\n",
       "3    Switzerland  7.512     2.026  1.226     0.822  0.677  0.147     0.461\n",
       "4    Netherlands  7.415     1.945  1.206     0.787  0.651  0.271     0.419\n",
       "..           ...    ...       ...    ...       ...    ...    ...       ...\n",
       "140     Botswana  3.471     1.503  0.815     0.280  0.571  0.012     0.102\n",
       "141       Rwanda  3.268     0.785  0.133     0.462  0.621  0.187     0.544\n",
       "142     Zimbabwe  2.995     0.947  0.690     0.270  0.329  0.106     0.105\n",
       "143      Lebanon  2.955     1.392  0.498     0.631  0.103  0.082     0.034\n",
       "144  Afghanistan  2.404     0.758  0.000     0.289  0.000  0.089     0.005\n",
       "\n",
       "[145 rows x 8 columns]"
      ]
     },
     "execution_count": 148,
     "metadata": {},
     "output_type": "execute_result"
    }
   ],
   "source": [
    "# 2022 데이터 출력\n",
    "data_2022 = pd.read_csv(\"./data_dir/data2022.csv\", encoding='cp949')\n",
    "data_2022 = data_2022.dropna(axis=0)    # 결측값이 있는 행 지우기 (NaN)\n",
    "data_2022"
   ]
  },
  {
   "cell_type": "markdown",
   "id": "c99d47c7",
   "metadata": {},
   "source": [
    "## 2.2. 한국 행복 데이터분석"
   ]
  },
  {
   "cell_type": "markdown",
   "id": "f96ed50e",
   "metadata": {},
   "source": [
    "### 2.2.1. 2015년 ~ 2022년 한국의 행복지수 변화"
   ]
  },
  {
   "cell_type": "code",
   "execution_count": 149,
   "id": "a1d1ebc0",
   "metadata": {
    "scrolled": true
   },
   "outputs": [
    {
     "data": {
      "text/html": [
       "<div>\n",
       "<style scoped>\n",
       "    .dataframe tbody tr th:only-of-type {\n",
       "        vertical-align: middle;\n",
       "    }\n",
       "\n",
       "    .dataframe tbody tr th {\n",
       "        vertical-align: top;\n",
       "    }\n",
       "\n",
       "    .dataframe thead th {\n",
       "        text-align: right;\n",
       "    }\n",
       "</style>\n",
       "<table border=\"1\" class=\"dataframe\">\n",
       "  <thead>\n",
       "    <tr style=\"text-align: right;\">\n",
       "      <th></th>\n",
       "      <th>국가</th>\n",
       "      <th>행복지수</th>\n",
       "      <th>경제성(GDP)</th>\n",
       "      <th>인간관계</th>\n",
       "      <th>건강 기대 수명</th>\n",
       "      <th>자유</th>\n",
       "      <th>기부</th>\n",
       "      <th>부패 인식 정도</th>\n",
       "    </tr>\n",
       "  </thead>\n",
       "  <tbody>\n",
       "    <tr>\n",
       "      <th>2015</th>\n",
       "      <td>South Korea</td>\n",
       "      <td>5.984</td>\n",
       "      <td>1.24461</td>\n",
       "      <td>0.95774</td>\n",
       "      <td>0.96538</td>\n",
       "      <td>0.33208</td>\n",
       "      <td>0.18557</td>\n",
       "      <td>0.07857</td>\n",
       "    </tr>\n",
       "    <tr>\n",
       "      <th>2016</th>\n",
       "      <td>South Korea</td>\n",
       "      <td>5.835</td>\n",
       "      <td>1.35948</td>\n",
       "      <td>0.72194</td>\n",
       "      <td>0.88645</td>\n",
       "      <td>0.25168</td>\n",
       "      <td>0.18824</td>\n",
       "      <td>0.07716</td>\n",
       "    </tr>\n",
       "    <tr>\n",
       "      <th>2017</th>\n",
       "      <td>South Korea</td>\n",
       "      <td>5.838</td>\n",
       "      <td>1.401678</td>\n",
       "      <td>1.128274</td>\n",
       "      <td>0.900214</td>\n",
       "      <td>0.257922</td>\n",
       "      <td>0.206674</td>\n",
       "      <td>0.063283</td>\n",
       "    </tr>\n",
       "    <tr>\n",
       "      <th>2018</th>\n",
       "      <td>South Korea</td>\n",
       "      <td>5.875</td>\n",
       "      <td>1.266</td>\n",
       "      <td>1.204</td>\n",
       "      <td>0.955</td>\n",
       "      <td>0.244</td>\n",
       "      <td>0.175</td>\n",
       "      <td>0.051</td>\n",
       "    </tr>\n",
       "    <tr>\n",
       "      <th>2019</th>\n",
       "      <td>South Korea</td>\n",
       "      <td>5.895</td>\n",
       "      <td>1.301</td>\n",
       "      <td>1.219</td>\n",
       "      <td>1.036</td>\n",
       "      <td>0.159</td>\n",
       "      <td>0.175</td>\n",
       "      <td>0.056</td>\n",
       "    </tr>\n",
       "    <tr>\n",
       "      <th>2020</th>\n",
       "      <td>South Korea</td>\n",
       "      <td>5.8724</td>\n",
       "      <td>1.245301</td>\n",
       "      <td>1.133561</td>\n",
       "      <td>1.022543</td>\n",
       "      <td>0.259356</td>\n",
       "      <td>0.170304</td>\n",
       "      <td>0.094596</td>\n",
       "    </tr>\n",
       "    <tr>\n",
       "      <th>2021</th>\n",
       "      <td>South Korea</td>\n",
       "      <td>5.845</td>\n",
       "      <td>1.403</td>\n",
       "      <td>0.758</td>\n",
       "      <td>0.801</td>\n",
       "      <td>0.353</td>\n",
       "      <td>0.134</td>\n",
       "      <td>0.135</td>\n",
       "    </tr>\n",
       "    <tr>\n",
       "      <th>2022</th>\n",
       "      <td>South Korea</td>\n",
       "      <td>5.935</td>\n",
       "      <td>1.851</td>\n",
       "      <td>0.886</td>\n",
       "      <td>0.841</td>\n",
       "      <td>0.414</td>\n",
       "      <td>0.111</td>\n",
       "      <td>0.176</td>\n",
       "    </tr>\n",
       "  </tbody>\n",
       "</table>\n",
       "</div>"
      ],
      "text/plain": [
       "               국가    행복지수  경제성(GDP)      인간관계  건강 기대 수명        자유        기부  \\\n",
       "2015  South Korea   5.984   1.24461   0.95774   0.96538   0.33208   0.18557   \n",
       "2016  South Korea   5.835   1.35948   0.72194   0.88645   0.25168   0.18824   \n",
       "2017  South Korea   5.838  1.401678  1.128274  0.900214  0.257922  0.206674   \n",
       "2018  South Korea   5.875     1.266     1.204     0.955     0.244     0.175   \n",
       "2019  South Korea   5.895     1.301     1.219     1.036     0.159     0.175   \n",
       "2020  South Korea  5.8724  1.245301  1.133561  1.022543  0.259356  0.170304   \n",
       "2021  South Korea   5.845     1.403     0.758     0.801     0.353     0.134   \n",
       "2022  South Korea   5.935     1.851     0.886     0.841     0.414     0.111   \n",
       "\n",
       "      부패 인식 정도  \n",
       "2015   0.07857  \n",
       "2016   0.07716  \n",
       "2017  0.063283  \n",
       "2018     0.051  \n",
       "2019     0.056  \n",
       "2020  0.094596  \n",
       "2021     0.135  \n",
       "2022     0.176  "
      ]
     },
     "execution_count": 149,
     "metadata": {},
     "output_type": "execute_result"
    }
   ],
   "source": [
    "# 2015년 ~ 2022년 한국 데이터\n",
    "total_koreaData = pd.DataFrame(columns=['국가', '행복지수', '경제성(GDP)', '인간관계','건강 기대 수명', '자유', '기부', '부패 인식 정도'])\n",
    "for i in range(2015, 2023):\n",
    "    readCSV = pd.read_csv(\"./data_dir/data\"+str(i)+\".csv\", encoding='cp949')\n",
    "    readCSV=readCSV.dropna(axis=0)    # 결측값이 있는 행 지우기 (NaN)\n",
    "    readCSV.index = readCSV.index + 1    # 인덱스를 1부터(1위) 시작\n",
    "    koreaData = readCSV.loc[(readCSV['국가'] == 'South Korea')]\n",
    "    total_koreaData = pd.concat([total_koreaData, koreaData], ignore_index = True)\n",
    "    total_koreaData.index += 2015\n",
    "total_koreaData"
   ]
  },
  {
   "cell_type": "code",
   "execution_count": 150,
   "id": "c967acc5",
   "metadata": {
    "scrolled": true
   },
   "outputs": [
    {
     "data": {
      "image/png": "[encoded data removed]",
      "text/plain": [
       "<Figure size 720x360 with 1 Axes>"
      ]
     },
     "metadata": {},
     "output_type": "display_data"
    }
   ],
   "source": [
    "# 2015년 ~ 2022년 한국의 행복지수 변화 그래프\n",
    "x = total_koreaData.index\n",
    "y = total_koreaData['행복지수']\n",
    "\n",
    "plt.figure(figsize=(10, 5))\n",
    "plt.title('대한민국 2015~2022년 행복지수 변화 그래프')\n",
    "plt.plot(x, y)\n",
    "plt.show()"
   ]
  },
  {
   "cell_type": "markdown",
   "id": "af97b781",
   "metadata": {},
   "source": [
    "### 2.2.2. 현재(2022년) 한국의 행복지수"
   ]
  },
  {
   "cell_type": "code",
   "execution_count": 151,
   "id": "ed7e1f33",
   "metadata": {},
   "outputs": [
    {
     "name": "stdout",
     "output_type": "stream",
     "text": [
      "2022년 145개의 국가 중 한국의 행복지수 순위는 58위\n"
     ]
    },
    {
     "data": {
      "text/html": [
       "<div>\n",
       "<style scoped>\n",
       "    .dataframe tbody tr th:only-of-type {\n",
       "        vertical-align: middle;\n",
       "    }\n",
       "\n",
       "    .dataframe tbody tr th {\n",
       "        vertical-align: top;\n",
       "    }\n",
       "\n",
       "    .dataframe thead th {\n",
       "        text-align: right;\n",
       "    }\n",
       "</style>\n",
       "<table border=\"1\" class=\"dataframe\">\n",
       "  <thead>\n",
       "    <tr style=\"text-align: right;\">\n",
       "      <th></th>\n",
       "      <th>국가</th>\n",
       "      <th>행복지수</th>\n",
       "      <th>경제성(GDP)</th>\n",
       "      <th>인간관계</th>\n",
       "      <th>건강 기대 수명</th>\n",
       "      <th>자유</th>\n",
       "      <th>기부</th>\n",
       "      <th>부패 인식 정도</th>\n",
       "    </tr>\n",
       "  </thead>\n",
       "  <tbody>\n",
       "    <tr>\n",
       "      <th>58</th>\n",
       "      <td>South Korea</td>\n",
       "      <td>5.935</td>\n",
       "      <td>1.851</td>\n",
       "      <td>0.886</td>\n",
       "      <td>0.841</td>\n",
       "      <td>0.414</td>\n",
       "      <td>0.111</td>\n",
       "      <td>0.176</td>\n",
       "    </tr>\n",
       "  </tbody>\n",
       "</table>\n",
       "</div>"
      ],
      "text/plain": [
       "             국가   행복지수  경제성(GDP)   인간관계  건강 기대 수명     자유     기부  부패 인식 정도\n",
       "58  South Korea  5.935     1.851  0.886     0.841  0.414  0.111     0.176"
      ]
     },
     "execution_count": 151,
     "metadata": {},
     "output_type": "execute_result"
    }
   ],
   "source": [
    "target_data = pd.read_csv(\"./data_dir/data2022.csv\", encoding='cp949')\n",
    "target_data=target_data.dropna(axis=0)    # 결측값이 있는 행 지우기 (NaN)\n",
    "target_data.index = target_data.index + 1    # 인덱스를 1부터(1위) 시작\n",
    "\n",
    "korea_rank = target_data.loc[(target_data['국가'] == 'South Korea')]\n",
    "print(f'2022년 {len(target_data)}개의 국가 중 한국의 행복지수 순위는 {korea_rank.index[0]}위')\n",
    "korea_rank"
   ]
  },
  {
   "cell_type": "code",
   "execution_count": 152,
   "id": "8acf9d56",
   "metadata": {
    "scrolled": true
   },
   "outputs": [
    {
     "data": {
      "text/plain": [
       "<matplotlib.legend.Legend at 0x243bc3ae5e0>"
      ]
     },
     "execution_count": 152,
     "metadata": {},
     "output_type": "execute_result"
    },
    {
     "data": {
      "image/png": "[encoded data removed]",
      "text/plain": [
       "<Figure size 432x288 with 1 Axes>"
      ]
     },
     "metadata": {},
     "output_type": "display_data"
    }
   ],
   "source": [
    "plt.style.use('ggplot')\n",
    "# 그래프에 한글 출력시 폰트 변경 (기본폰트 : sans-serif)\n",
    "matplotlib.rcParams['font.family'] = 'Malgun Gothic'\n",
    "\n",
    "# 그래프에서 마이너스(-)폰트 깨짐 방지\n",
    "matplotlib.rcParams['axes.unicode_minus'] = False\n",
    "sns.histplot(target_data['행복지수'], kde=True, stat=\"density\")\n",
    "plt.axvline(list(korea_rank['행복지수']),0, 1, color='r', linestyle='--', label='한국')\n",
    "\n",
    "# 한국의 행복지수가 수 많은 국가의 행복지수들 중에서 어디에 분포되어 있는지 알 수 있다\n",
    "plt.legend()"
   ]
  },
  {
   "cell_type": "markdown",
   "id": "ef1cde80",
   "metadata": {},
   "source": [
    "### 2.2.3. 2015년 ~ 2022년 한국의 행복결정요인별 변화"
   ]
  },
  {
   "cell_type": "code",
   "execution_count": 153,
   "id": "c9f7a5fb",
   "metadata": {
    "scrolled": true
   },
   "outputs": [
    {
     "data": {
      "image/png": "[encoded data removed]",
      "text/plain": [
       "<Figure size 432x288 with 1 Axes>"
      ]
     },
     "metadata": {},
     "output_type": "display_data"
    },
    {
     "data": {
      "image/png": "[encoded data removed]",
      "text/plain": [
       "<Figure size 432x288 with 1 Axes>"
      ]
     },
     "metadata": {},
     "output_type": "display_data"
    },
    {
     "data": {
      "image/png": "[encoded data removed]",
      "text/plain": [
       "<Figure size 432x288 with 1 Axes>"
      ]
     },
     "metadata": {},
     "output_type": "display_data"
    },
    {
     "data": {
      "image/png": "[encoded data removed]",
      "text/plain": [
       "<Figure size 432x288 with 1 Axes>"
      ]
     },
     "metadata": {},
     "output_type": "display_data"
    },
    {
     "data": {
      "image/png": "[encoded data removed]",
      "text/plain": [
       "<Figure size 432x288 with 1 Axes>"
      ]
     },
     "metadata": {},
     "output_type": "display_data"
    },
    {
     "data": {
      "image/png": "[encoded data removed]",
      "text/plain": [
       "<Figure size 432x288 with 1 Axes>"
      ]
     },
     "metadata": {},
     "output_type": "display_data"
    }
   ],
   "source": [
    "# 2015년 ~ 2022년 한국의 행복결정요인별 변화 그래프\n",
    "for i in total_koreaData.columns[2:]:\n",
    "    x = total_koreaData.index\n",
    "    y = total_koreaData[i]\n",
    "    plt.title('대한민국 2015~2022년 '+ i +' 변화 그래프')\n",
    "    plt.plot(x, y)\n",
    "# plt.figure(figsize=(10, 5))\n",
    "    plt.show()"
   ]
  },
  {
   "cell_type": "markdown",
   "id": "f23a5c86",
   "metadata": {},
   "source": [
    "## 2.2.4. 현재(2022년) 한국의 행복결정요인 분석"
   ]
  },
  {
   "cell_type": "code",
   "execution_count": 154,
   "id": "e7cfa4ac",
   "metadata": {},
   "outputs": [
    {
     "data": {
      "image/png": "[encoded data removed]",
      "text/plain": [
       "<Figure size 720x360 with 1 Axes>"
      ]
     },
     "metadata": {},
     "output_type": "display_data"
    }
   ],
   "source": [
    "# 한국의 행복결정요인들과 세계의 행복결정요인들의 평균을 비교할 수 있는 그래프\n",
    "index = np.arange(len(list(korea_rank.columns)[1:]))\n",
    "bar_width = 0.25\n",
    "\n",
    "avg_data = target_data.mean(numeric_only=True)\n",
    "\n",
    "plt.style.use('ggplot')\n",
    "plt.figure(figsize=(10, 5))\n",
    "plt.title('현재 한국의 행복결정요인 분석')\n",
    "\n",
    "kor = plt.bar(index, list(korea_rank.values[0])[1:], label='한국의 행복결정요인', width = bar_width)\n",
    "world = plt.bar(index + bar_width, list(avg_data), label='세계의 행복결정요인 평균', width = bar_width)\n",
    "\n",
    "plt.xticks(index+bar_width/2, list(korea_rank.columns)[1:])\n",
    "plt.tick_params(axis='x', bottom=False)\n",
    "plt.legend()\n",
    "plt.show()"
   ]
  },
  {
   "cell_type": "code",
   "execution_count": 155,
   "id": "0e952649",
   "metadata": {
    "scrolled": true
   },
   "outputs": [
    {
     "data": {
      "image/png": "[encoded data removed]",
      "text/plain": [
       "<Figure size 720x360 with 1 Axes>"
      ]
     },
     "metadata": {},
     "output_type": "display_data"
    }
   ],
   "source": [
    "result = np.array(korea_rank.values[0])[1:] - np.array(avg_data)\n",
    "\n",
    "plt.figure(figsize=(10, 5))\n",
    "plt.title('한국의 행복결정요인과 세계의 행복결정요인의 차 (한국의 행복결정요인 - 세계의 행복결정요인)')\n",
    "compare_data = pd.DataFrame()\n",
    "\n",
    "plt.barh(list(korea_rank.columns)[1:], result, color=list(map(lambda x : red if x > 0 else blue, result)))\n",
    "plt.xlim(-0.5,0.5)\n",
    "plt.show()\n",
    "\n",
    "# 양의 값들은 한국이 세계보다 더 높다는 의미\n",
    "# 음의 값들은 한국이 세계보다 더 낮다는 의미"
   ]
  },
  {
   "cell_type": "markdown",
   "id": "c0ffcfb2",
   "metadata": {},
   "source": [
    "## 2.3. 한중일 행복 데이터 비교"
   ]
  },
  {
   "cell_type": "code",
   "execution_count": 156,
   "id": "65895482",
   "metadata": {},
   "outputs": [
    {
     "data": {
      "text/html": [
       "<div>\n",
       "<style scoped>\n",
       "    .dataframe tbody tr th:only-of-type {\n",
       "        vertical-align: middle;\n",
       "    }\n",
       "\n",
       "    .dataframe tbody tr th {\n",
       "        vertical-align: top;\n",
       "    }\n",
       "\n",
       "    .dataframe thead th {\n",
       "        text-align: right;\n",
       "    }\n",
       "</style>\n",
       "<table border=\"1\" class=\"dataframe\">\n",
       "  <thead>\n",
       "    <tr style=\"text-align: right;\">\n",
       "      <th></th>\n",
       "      <th>국가</th>\n",
       "      <th>행복지수</th>\n",
       "      <th>경제성(GDP)</th>\n",
       "      <th>인간관계</th>\n",
       "      <th>건강 기대 수명</th>\n",
       "      <th>자유</th>\n",
       "      <th>기부</th>\n",
       "      <th>부패 인식 정도</th>\n",
       "    </tr>\n",
       "  </thead>\n",
       "  <tbody>\n",
       "    <tr>\n",
       "      <th>53</th>\n",
       "      <td>Japan</td>\n",
       "      <td>6.039</td>\n",
       "      <td>1.835</td>\n",
       "      <td>1.089</td>\n",
       "      <td>0.866</td>\n",
       "      <td>0.537</td>\n",
       "      <td>0.007</td>\n",
       "      <td>0.218</td>\n",
       "    </tr>\n",
       "    <tr>\n",
       "      <th>58</th>\n",
       "      <td>South Korea</td>\n",
       "      <td>5.935</td>\n",
       "      <td>1.851</td>\n",
       "      <td>0.886</td>\n",
       "      <td>0.841</td>\n",
       "      <td>0.414</td>\n",
       "      <td>0.111</td>\n",
       "      <td>0.176</td>\n",
       "    </tr>\n",
       "    <tr>\n",
       "      <th>71</th>\n",
       "      <td>China</td>\n",
       "      <td>5.585</td>\n",
       "      <td>1.508</td>\n",
       "      <td>0.958</td>\n",
       "      <td>0.705</td>\n",
       "      <td>0.656</td>\n",
       "      <td>0.099</td>\n",
       "      <td>0.142</td>\n",
       "    </tr>\n",
       "  </tbody>\n",
       "</table>\n",
       "</div>"
      ],
      "text/plain": [
       "             국가   행복지수  경제성(GDP)   인간관계  건강 기대 수명     자유     기부  부패 인식 정도\n",
       "53        Japan  6.039     1.835  1.089     0.866  0.537  0.007     0.218\n",
       "58  South Korea  5.935     1.851  0.886     0.841  0.414  0.111     0.176\n",
       "71        China  5.585     1.508  0.958     0.705  0.656  0.099     0.142"
      ]
     },
     "execution_count": 156,
     "metadata": {},
     "output_type": "execute_result"
    }
   ],
   "source": [
    "# 한중일 데이터\n",
    "kcj_data = target_data[target_data['국가'].str.contains('South Korea|^China|Japan')]\n",
    "kcj_data"
   ]
  },
  {
   "cell_type": "code",
   "execution_count": 157,
   "id": "2aecdca2",
   "metadata": {
    "scrolled": true
   },
   "outputs": [
    {
     "data": {
      "image/png": "[encoded data removed]",
      "text/plain": [
       "<Figure size 576x288 with 1 Axes>"
      ]
     },
     "metadata": {},
     "output_type": "display_data"
    }
   ],
   "source": [
    "# 하나당 3개의 막대그래프를 그리기 위한 함수\n",
    "def compute_pos(xticks, width, i, countries):\n",
    "    index = np.arange(len(xticks))\n",
    "    n = len(countries)\n",
    "    correction = i-0.5*(n-1)\n",
    "    return index + width*correction\n",
    "\n",
    "# bar 세부 설정\n",
    "def present_height(ax, bar):\n",
    "    for rect in bar:\n",
    "        height = rect.get_height()\n",
    "        posx = rect.get_x()+rect.get_width()*0.5\n",
    "        posy = height*1.01\n",
    "        ax.text(posx, posy, '%.3f' % height, rotation=90, ha='center', va='bottom')\n",
    "        \n",
    "# 그래프에 나타낼 데이터 입력\n",
    "countries = ['일본', '한국', '중국']\n",
    "xticks = ['행복지수', '경제성(GDP)', '인간관계', '건강 기대 수명', '자유', '기부', '부패 인식 정도']\n",
    "data = {'일본':list(kcj_data.values[0][1:]),\n",
    "        '한국':list(kcj_data.values[1][1:]),\n",
    "        '중국':list(kcj_data.values[2][1:])}\n",
    "    \n",
    "# 그래프의 figure 및 axis 설정\n",
    "fig, ax = plt.subplots(1,1,figsize=(8,4)) # 1x1 figure matrix 생성, 가로x세로 크기지정\n",
    "colors = ['salmon', 'orange', 'cadetblue', 'skyblue']\n",
    "width = 0.15\n",
    "\n",
    "# 그래프 그리기\n",
    "for i, country in enumerate(countries):\n",
    "    pos = compute_pos(xticks, width, i, countries)\n",
    "    bar = ax.bar(pos, data[country], width=width*0.95, label=country, color=colors[i])\n",
    "    present_height(ax, bar) # bar높이 출력\n",
    "    \n",
    "# 제목 설정\n",
    "plt.title('한중일 비교')\n",
    "    \n",
    "# x축 세부설정\n",
    "ax.set_xticks(range(len(xticks)))\n",
    "ax.set_xticklabels(xticks, fontsize=10)\t\n",
    "\n",
    "# y축 세부설정\n",
    "ax.set_ylim([0,7])\n",
    "ax.yaxis.set_tick_params(labelsize=10)\n",
    "\n",
    "# 범례 나타내기\n",
    "ax.legend(loc='upper right', shadow=True, ncol=1)\n",
    "\n",
    "# 보조선(눈금선) 나타내기\n",
    "ax.set_axisbelow(True)\n",
    "ax.yaxis.grid(True, color='gray', linestyle='dashed', linewidth=0.5)\n",
    "\n",
    "# 출력하기\n",
    "plt.tight_layout() # 겹치지 않게\n",
    "plt.show()"
   ]
  },
  {
   "cell_type": "markdown",
   "id": "566a9e75",
   "metadata": {},
   "source": [
    "## 2.4. 행복지수 세계지도 시각화"
   ]
  },
  {
   "cell_type": "code",
   "execution_count": 158,
   "id": "c685d126",
   "metadata": {},
   "outputs": [
    {
     "name": "stdout",
     "output_type": "stream",
     "text": [
      "Requirement already satisfied: plotly in c:\\users\\zxq01\\anaconda3\\lib\\site-packages (5.6.0)\n",
      "Requirement already satisfied: tenacity>=6.2.0 in c:\\users\\zxq01\\anaconda3\\lib\\site-packages (from plotly) (8.0.1)\n",
      "Requirement already satisfied: six in c:\\users\\zxq01\\anaconda3\\lib\\site-packages (from plotly) (1.16.0)\n"
     ]
    },
    {
     "name": "stderr",
     "output_type": "stream",
     "text": [
      "WARNING: Ignoring invalid distribution -pype1 (c:\\users\\zxq01\\anaconda3\\lib\\site-packages)\n",
      "WARNING: Ignoring invalid distribution -pype1 (c:\\users\\zxq01\\anaconda3\\lib\\site-packages)\n",
      "WARNING: Ignoring invalid distribution -pype1 (c:\\users\\zxq01\\anaconda3\\lib\\site-packages)\n",
      "WARNING: Ignoring invalid distribution -pype1 (c:\\users\\zxq01\\anaconda3\\lib\\site-packages)\n",
      "WARNING: Ignoring invalid distribution -pype1 (c:\\users\\zxq01\\anaconda3\\lib\\site-packages)\n",
      "WARNING: Ignoring invalid distribution -pype1 (c:\\users\\zxq01\\anaconda3\\lib\\site-packages)\n"
     ]
    }
   ],
   "source": [
    "!pip install plotly"
   ]
  },
  {
   "cell_type": "code",
   "execution_count": 159,
   "id": "820eb4bd",
   "metadata": {},
   "outputs": [
    {
     "data": {
      "text/html": [
       "<div>\n",
       "<style scoped>\n",
       "    .dataframe tbody tr th:only-of-type {\n",
       "        vertical-align: middle;\n",
       "    }\n",
       "\n",
       "    .dataframe tbody tr th {\n",
       "        vertical-align: top;\n",
       "    }\n",
       "\n",
       "    .dataframe thead th {\n",
       "        text-align: right;\n",
       "    }\n",
       "</style>\n",
       "<table border=\"1\" class=\"dataframe\">\n",
       "  <thead>\n",
       "    <tr style=\"text-align: right;\">\n",
       "      <th></th>\n",
       "      <th>COUNTRY</th>\n",
       "      <th>GDP (BILLIONS)</th>\n",
       "      <th>CODE</th>\n",
       "    </tr>\n",
       "  </thead>\n",
       "  <tbody>\n",
       "    <tr>\n",
       "      <th>0</th>\n",
       "      <td>Afghanistan</td>\n",
       "      <td>21.71</td>\n",
       "      <td>AFG</td>\n",
       "    </tr>\n",
       "    <tr>\n",
       "      <th>1</th>\n",
       "      <td>Albania</td>\n",
       "      <td>13.40</td>\n",
       "      <td>ALB</td>\n",
       "    </tr>\n",
       "    <tr>\n",
       "      <th>2</th>\n",
       "      <td>Algeria</td>\n",
       "      <td>227.80</td>\n",
       "      <td>DZA</td>\n",
       "    </tr>\n",
       "    <tr>\n",
       "      <th>3</th>\n",
       "      <td>American Samoa</td>\n",
       "      <td>0.75</td>\n",
       "      <td>ASM</td>\n",
       "    </tr>\n",
       "    <tr>\n",
       "      <th>4</th>\n",
       "      <td>Andorra</td>\n",
       "      <td>4.80</td>\n",
       "      <td>AND</td>\n",
       "    </tr>\n",
       "    <tr>\n",
       "      <th>...</th>\n",
       "      <td>...</td>\n",
       "      <td>...</td>\n",
       "      <td>...</td>\n",
       "    </tr>\n",
       "    <tr>\n",
       "      <th>217</th>\n",
       "      <td>Virgin Islands</td>\n",
       "      <td>5.08</td>\n",
       "      <td>VGB</td>\n",
       "    </tr>\n",
       "    <tr>\n",
       "      <th>218</th>\n",
       "      <td>West Bank</td>\n",
       "      <td>6.64</td>\n",
       "      <td>WBG</td>\n",
       "    </tr>\n",
       "    <tr>\n",
       "      <th>219</th>\n",
       "      <td>Yemen</td>\n",
       "      <td>45.45</td>\n",
       "      <td>YEM</td>\n",
       "    </tr>\n",
       "    <tr>\n",
       "      <th>220</th>\n",
       "      <td>Zambia</td>\n",
       "      <td>25.61</td>\n",
       "      <td>ZMB</td>\n",
       "    </tr>\n",
       "    <tr>\n",
       "      <th>221</th>\n",
       "      <td>Zimbabwe</td>\n",
       "      <td>13.74</td>\n",
       "      <td>ZWE</td>\n",
       "    </tr>\n",
       "  </tbody>\n",
       "</table>\n",
       "<p>222 rows × 3 columns</p>\n",
       "</div>"
      ],
      "text/plain": [
       "            COUNTRY  GDP (BILLIONS) CODE\n",
       "0       Afghanistan           21.71  AFG\n",
       "1           Albania           13.40  ALB\n",
       "2           Algeria          227.80  DZA\n",
       "3    American Samoa            0.75  ASM\n",
       "4           Andorra            4.80  AND\n",
       "..              ...             ...  ...\n",
       "217  Virgin Islands            5.08  VGB\n",
       "218       West Bank            6.64  WBG\n",
       "219           Yemen           45.45  YEM\n",
       "220          Zambia           25.61  ZMB\n",
       "221        Zimbabwe           13.74  ZWE\n",
       "\n",
       "[222 rows x 3 columns]"
      ]
     },
     "execution_count": 159,
     "metadata": {},
     "output_type": "execute_result"
    }
   ],
   "source": [
    "# 세계지도를 그리는 라이브러리를 사용하기 위해 국가코드가 있는 데이터셋 불러오기\n",
    "df = pd.read_csv('https://raw.githubusercontent.com/plotly/datasets/master/2014_world_gdp_with_codes.csv')\n",
    "# 내용 확인\n",
    "df"
   ]
  },
  {
   "cell_type": "code",
   "execution_count": 160,
   "id": "774deff5",
   "metadata": {},
   "outputs": [],
   "source": [
    "data_2022 = data_2022.sort_values('국가', ascending=True)"
   ]
  },
  {
   "cell_type": "code",
   "execution_count": 161,
   "id": "feb20a81",
   "metadata": {},
   "outputs": [],
   "source": [
    "# 국가 코드 맵핑을 위해 data_2022에 존재하는 국가 찾기\n",
    "map_code = []\n",
    "\n",
    "for i in list(data_2022['국가']):\n",
    "    try:\n",
    "        map_code.append(list(df.loc[df['COUNTRY'] == i,'CODE'])[0])\n",
    "    except IndexError: ##인덱스 벗어나는 에러를 잡았을 경우에 대해서만!\n",
    "        map_code.append(np.nan)"
   ]
  },
  {
   "cell_type": "code",
   "execution_count": 162,
   "id": "f74f08b3",
   "metadata": {},
   "outputs": [
    {
     "data": {
      "text/html": [
       "<div>\n",
       "<style scoped>\n",
       "    .dataframe tbody tr th:only-of-type {\n",
       "        vertical-align: middle;\n",
       "    }\n",
       "\n",
       "    .dataframe tbody tr th {\n",
       "        vertical-align: top;\n",
       "    }\n",
       "\n",
       "    .dataframe thead th {\n",
       "        text-align: right;\n",
       "    }\n",
       "</style>\n",
       "<table border=\"1\" class=\"dataframe\">\n",
       "  <thead>\n",
       "    <tr style=\"text-align: right;\">\n",
       "      <th></th>\n",
       "      <th>국가</th>\n",
       "      <th>행복지수</th>\n",
       "      <th>경제성(GDP)</th>\n",
       "      <th>인간관계</th>\n",
       "      <th>건강 기대 수명</th>\n",
       "      <th>자유</th>\n",
       "      <th>기부</th>\n",
       "      <th>부패 인식 정도</th>\n",
       "      <th>CODE</th>\n",
       "    </tr>\n",
       "  </thead>\n",
       "  <tbody>\n",
       "    <tr>\n",
       "      <th>144</th>\n",
       "      <td>Afghanistan</td>\n",
       "      <td>2.404</td>\n",
       "      <td>0.758</td>\n",
       "      <td>0.000</td>\n",
       "      <td>0.289</td>\n",
       "      <td>0.000</td>\n",
       "      <td>0.089</td>\n",
       "      <td>0.005</td>\n",
       "      <td>AFG</td>\n",
       "    </tr>\n",
       "    <tr>\n",
       "      <th>88</th>\n",
       "      <td>Albania</td>\n",
       "      <td>5.199</td>\n",
       "      <td>1.439</td>\n",
       "      <td>0.646</td>\n",
       "      <td>0.719</td>\n",
       "      <td>0.511</td>\n",
       "      <td>0.138</td>\n",
       "      <td>0.028</td>\n",
       "      <td>ALB</td>\n",
       "    </tr>\n",
       "    <tr>\n",
       "      <th>94</th>\n",
       "      <td>Algeria</td>\n",
       "      <td>5.122</td>\n",
       "      <td>1.363</td>\n",
       "      <td>0.970</td>\n",
       "      <td>0.643</td>\n",
       "      <td>0.146</td>\n",
       "      <td>0.106</td>\n",
       "      <td>0.150</td>\n",
       "      <td>DZA</td>\n",
       "    </tr>\n",
       "    <tr>\n",
       "      <th>55</th>\n",
       "      <td>Argentina</td>\n",
       "      <td>5.967</td>\n",
       "      <td>1.592</td>\n",
       "      <td>1.102</td>\n",
       "      <td>0.662</td>\n",
       "      <td>0.555</td>\n",
       "      <td>0.081</td>\n",
       "      <td>0.085</td>\n",
       "      <td>ARG</td>\n",
       "    </tr>\n",
       "    <tr>\n",
       "      <th>80</th>\n",
       "      <td>Armenia</td>\n",
       "      <td>5.399</td>\n",
       "      <td>1.434</td>\n",
       "      <td>0.820</td>\n",
       "      <td>0.668</td>\n",
       "      <td>0.558</td>\n",
       "      <td>0.054</td>\n",
       "      <td>0.210</td>\n",
       "      <td>ARM</td>\n",
       "    </tr>\n",
       "    <tr>\n",
       "      <th>...</th>\n",
       "      <td>...</td>\n",
       "      <td>...</td>\n",
       "      <td>...</td>\n",
       "      <td>...</td>\n",
       "      <td>...</td>\n",
       "      <td>...</td>\n",
       "      <td>...</td>\n",
       "      <td>...</td>\n",
       "      <td>...</td>\n",
       "    </tr>\n",
       "    <tr>\n",
       "      <th>106</th>\n",
       "      <td>Venezuela</td>\n",
       "      <td>4.925</td>\n",
       "      <td>0.000</td>\n",
       "      <td>0.968</td>\n",
       "      <td>0.578</td>\n",
       "      <td>0.283</td>\n",
       "      <td>0.225</td>\n",
       "      <td>0.082</td>\n",
       "      <td>VEN</td>\n",
       "    </tr>\n",
       "    <tr>\n",
       "      <th>75</th>\n",
       "      <td>Vietnam</td>\n",
       "      <td>5.485</td>\n",
       "      <td>1.252</td>\n",
       "      <td>0.932</td>\n",
       "      <td>0.611</td>\n",
       "      <td>0.707</td>\n",
       "      <td>0.143</td>\n",
       "      <td>0.105</td>\n",
       "      <td>VNM</td>\n",
       "    </tr>\n",
       "    <tr>\n",
       "      <th>130</th>\n",
       "      <td>Yemen</td>\n",
       "      <td>4.197</td>\n",
       "      <td>0.691</td>\n",
       "      <td>1.043</td>\n",
       "      <td>0.384</td>\n",
       "      <td>0.330</td>\n",
       "      <td>0.090</td>\n",
       "      <td>0.098</td>\n",
       "      <td>YEM</td>\n",
       "    </tr>\n",
       "    <tr>\n",
       "      <th>135</th>\n",
       "      <td>Zambia</td>\n",
       "      <td>3.760</td>\n",
       "      <td>0.930</td>\n",
       "      <td>0.577</td>\n",
       "      <td>0.306</td>\n",
       "      <td>0.525</td>\n",
       "      <td>0.203</td>\n",
       "      <td>0.083</td>\n",
       "      <td>ZMB</td>\n",
       "    </tr>\n",
       "    <tr>\n",
       "      <th>142</th>\n",
       "      <td>Zimbabwe</td>\n",
       "      <td>2.995</td>\n",
       "      <td>0.947</td>\n",
       "      <td>0.690</td>\n",
       "      <td>0.270</td>\n",
       "      <td>0.329</td>\n",
       "      <td>0.106</td>\n",
       "      <td>0.105</td>\n",
       "      <td>ZWE</td>\n",
       "    </tr>\n",
       "  </tbody>\n",
       "</table>\n",
       "<p>145 rows × 9 columns</p>\n",
       "</div>"
      ],
      "text/plain": [
       "              국가   행복지수  경제성(GDP)   인간관계  건강 기대 수명     자유     기부  부패 인식 정도  \\\n",
       "144  Afghanistan  2.404     0.758  0.000     0.289  0.000  0.089     0.005   \n",
       "88       Albania  5.199     1.439  0.646     0.719  0.511  0.138     0.028   \n",
       "94       Algeria  5.122     1.363  0.970     0.643  0.146  0.106     0.150   \n",
       "55     Argentina  5.967     1.592  1.102     0.662  0.555  0.081     0.085   \n",
       "80       Armenia  5.399     1.434  0.820     0.668  0.558  0.054     0.210   \n",
       "..           ...    ...       ...    ...       ...    ...    ...       ...   \n",
       "106    Venezuela  4.925     0.000  0.968     0.578  0.283  0.225     0.082   \n",
       "75       Vietnam  5.485     1.252  0.932     0.611  0.707  0.143     0.105   \n",
       "130        Yemen  4.197     0.691  1.043     0.384  0.330  0.090     0.098   \n",
       "135       Zambia  3.760     0.930  0.577     0.306  0.525  0.203     0.083   \n",
       "142     Zimbabwe  2.995     0.947  0.690     0.270  0.329  0.106     0.105   \n",
       "\n",
       "    CODE  \n",
       "144  AFG  \n",
       "88   ALB  \n",
       "94   DZA  \n",
       "55   ARG  \n",
       "80   ARM  \n",
       "..   ...  \n",
       "106  VEN  \n",
       "75   VNM  \n",
       "130  YEM  \n",
       "135  ZMB  \n",
       "142  ZWE  \n",
       "\n",
       "[145 rows x 9 columns]"
      ]
     },
     "execution_count": 162,
     "metadata": {},
     "output_type": "execute_result"
    }
   ],
   "source": [
    "# 국가 코드 열 추가\n",
    "data_2022['CODE'] = map_code\n",
    "data_2022"
   ]
  },
  {
   "cell_type": "code",
   "execution_count": 163,
   "id": "a10cbd92",
   "metadata": {},
   "outputs": [
    {
     "data": {
      "text/html": [
       "<div>\n",
       "<style scoped>\n",
       "    .dataframe tbody tr th:only-of-type {\n",
       "        vertical-align: middle;\n",
       "    }\n",
       "\n",
       "    .dataframe tbody tr th {\n",
       "        vertical-align: top;\n",
       "    }\n",
       "\n",
       "    .dataframe thead th {\n",
       "        text-align: right;\n",
       "    }\n",
       "</style>\n",
       "<table border=\"1\" class=\"dataframe\">\n",
       "  <thead>\n",
       "    <tr style=\"text-align: right;\">\n",
       "      <th></th>\n",
       "      <th>국가</th>\n",
       "      <th>행복지수</th>\n",
       "      <th>경제성(GDP)</th>\n",
       "      <th>인간관계</th>\n",
       "      <th>건강 기대 수명</th>\n",
       "      <th>자유</th>\n",
       "      <th>기부</th>\n",
       "      <th>부패 인식 정도</th>\n",
       "      <th>CODE</th>\n",
       "    </tr>\n",
       "  </thead>\n",
       "  <tbody>\n",
       "    <tr>\n",
       "      <th>97</th>\n",
       "      <td>Congo</td>\n",
       "      <td>5.075</td>\n",
       "      <td>0.950</td>\n",
       "      <td>0.405</td>\n",
       "      <td>0.355</td>\n",
       "      <td>0.431</td>\n",
       "      <td>0.130</td>\n",
       "      <td>0.146</td>\n",
       "      <td>NaN</td>\n",
       "    </tr>\n",
       "    <tr>\n",
       "      <th>17</th>\n",
       "      <td>Czechia</td>\n",
       "      <td>6.920</td>\n",
       "      <td>1.815</td>\n",
       "      <td>1.260</td>\n",
       "      <td>0.715</td>\n",
       "      <td>0.660</td>\n",
       "      <td>0.158</td>\n",
       "      <td>0.048</td>\n",
       "      <td>NaN</td>\n",
       "    </tr>\n",
       "    <tr>\n",
       "      <th>123</th>\n",
       "      <td>Eswatini Kingdom of</td>\n",
       "      <td>4.396</td>\n",
       "      <td>1.274</td>\n",
       "      <td>0.786</td>\n",
       "      <td>0.197</td>\n",
       "      <td>0.259</td>\n",
       "      <td>0.038</td>\n",
       "      <td>0.154</td>\n",
       "      <td>NaN</td>\n",
       "    </tr>\n",
       "    <tr>\n",
       "      <th>91</th>\n",
       "      <td>Gambia</td>\n",
       "      <td>5.164</td>\n",
       "      <td>0.785</td>\n",
       "      <td>0.621</td>\n",
       "      <td>0.369</td>\n",
       "      <td>0.367</td>\n",
       "      <td>0.388</td>\n",
       "      <td>0.103</td>\n",
       "      <td>NaN</td>\n",
       "    </tr>\n",
       "    <tr>\n",
       "      <th>79</th>\n",
       "      <td>Hong Kong SAR of China</td>\n",
       "      <td>5.425</td>\n",
       "      <td>1.957</td>\n",
       "      <td>0.954</td>\n",
       "      <td>0.942</td>\n",
       "      <td>0.400</td>\n",
       "      <td>0.147</td>\n",
       "      <td>0.383</td>\n",
       "      <td>NaN</td>\n",
       "    </tr>\n",
       "    <tr>\n",
       "      <th>86</th>\n",
       "      <td>Ivory Coast</td>\n",
       "      <td>5.235</td>\n",
       "      <td>1.094</td>\n",
       "      <td>0.442</td>\n",
       "      <td>0.322</td>\n",
       "      <td>0.451</td>\n",
       "      <td>0.149</td>\n",
       "      <td>0.124</td>\n",
       "      <td>NaN</td>\n",
       "    </tr>\n",
       "    <tr>\n",
       "      <th>124</th>\n",
       "      <td>Myanmar</td>\n",
       "      <td>4.394</td>\n",
       "      <td>1.038</td>\n",
       "      <td>0.829</td>\n",
       "      <td>0.491</td>\n",
       "      <td>0.513</td>\n",
       "      <td>0.452</td>\n",
       "      <td>0.194</td>\n",
       "      <td>NaN</td>\n",
       "    </tr>\n",
       "    <tr>\n",
       "      <th>77</th>\n",
       "      <td>North Cyprus</td>\n",
       "      <td>5.467</td>\n",
       "      <td>1.815</td>\n",
       "      <td>0.888</td>\n",
       "      <td>0.819</td>\n",
       "      <td>0.523</td>\n",
       "      <td>0.130</td>\n",
       "      <td>0.213</td>\n",
       "      <td>NaN</td>\n",
       "    </tr>\n",
       "    <tr>\n",
       "      <th>87</th>\n",
       "      <td>North Macedonia</td>\n",
       "      <td>5.199</td>\n",
       "      <td>1.505</td>\n",
       "      <td>0.863</td>\n",
       "      <td>0.637</td>\n",
       "      <td>0.488</td>\n",
       "      <td>0.215</td>\n",
       "      <td>0.031</td>\n",
       "      <td>NaN</td>\n",
       "    </tr>\n",
       "    <tr>\n",
       "      <th>120</th>\n",
       "      <td>Palestinian Territories</td>\n",
       "      <td>4.483</td>\n",
       "      <td>1.148</td>\n",
       "      <td>0.957</td>\n",
       "      <td>0.521</td>\n",
       "      <td>0.336</td>\n",
       "      <td>0.073</td>\n",
       "      <td>0.079</td>\n",
       "      <td>NaN</td>\n",
       "    </tr>\n",
       "    <tr>\n",
       "      <th>57</th>\n",
       "      <td>South Korea</td>\n",
       "      <td>5.935</td>\n",
       "      <td>1.851</td>\n",
       "      <td>0.886</td>\n",
       "      <td>0.841</td>\n",
       "      <td>0.414</td>\n",
       "      <td>0.111</td>\n",
       "      <td>0.176</td>\n",
       "      <td>NaN</td>\n",
       "    </tr>\n",
       "    <tr>\n",
       "      <th>24</th>\n",
       "      <td>Taiwan Province of China</td>\n",
       "      <td>6.512</td>\n",
       "      <td>1.897</td>\n",
       "      <td>1.095</td>\n",
       "      <td>0.733</td>\n",
       "      <td>0.542</td>\n",
       "      <td>0.075</td>\n",
       "      <td>0.168</td>\n",
       "      <td>NaN</td>\n",
       "    </tr>\n",
       "  </tbody>\n",
       "</table>\n",
       "</div>"
      ],
      "text/plain": [
       "                           국가   행복지수  경제성(GDP)   인간관계  건강 기대 수명     자유     기부  \\\n",
       "97                      Congo  5.075     0.950  0.405     0.355  0.431  0.130   \n",
       "17                    Czechia  6.920     1.815  1.260     0.715  0.660  0.158   \n",
       "123       Eswatini Kingdom of  4.396     1.274  0.786     0.197  0.259  0.038   \n",
       "91                     Gambia  5.164     0.785  0.621     0.369  0.367  0.388   \n",
       "79     Hong Kong SAR of China  5.425     1.957  0.954     0.942  0.400  0.147   \n",
       "86                Ivory Coast  5.235     1.094  0.442     0.322  0.451  0.149   \n",
       "124                   Myanmar  4.394     1.038  0.829     0.491  0.513  0.452   \n",
       "77               North Cyprus  5.467     1.815  0.888     0.819  0.523  0.130   \n",
       "87            North Macedonia  5.199     1.505  0.863     0.637  0.488  0.215   \n",
       "120   Palestinian Territories  4.483     1.148  0.957     0.521  0.336  0.073   \n",
       "57                South Korea  5.935     1.851  0.886     0.841  0.414  0.111   \n",
       "24   Taiwan Province of China  6.512     1.897  1.095     0.733  0.542  0.075   \n",
       "\n",
       "     부패 인식 정도 CODE  \n",
       "97      0.146  NaN  \n",
       "17      0.048  NaN  \n",
       "123     0.154  NaN  \n",
       "91      0.103  NaN  \n",
       "79      0.383  NaN  \n",
       "86      0.124  NaN  \n",
       "124     0.194  NaN  \n",
       "77      0.213  NaN  \n",
       "87      0.031  NaN  \n",
       "120     0.079  NaN  \n",
       "57      0.176  NaN  \n",
       "24      0.168  NaN  "
      ]
     },
     "execution_count": 163,
     "metadata": {},
     "output_type": "execute_result"
    }
   ],
   "source": [
    "# 매핑 실패한 국가들 출력 \n",
    "data_2022[data_2022['CODE'].isnull()]"
   ]
  },
  {
   "cell_type": "code",
   "execution_count": 164,
   "id": "0dea46eb",
   "metadata": {},
   "outputs": [],
   "source": [
    "# NULL이 담긴 코드값 수작업으로 채워줌\n",
    "# https://ko.wikipedia.org/wiki/%EA%B5%AD%EA%B0%80%EB%B3%84_%EA%B5%AD%EA%B0%80_%EC%BD%94%EB%93%9C_%EB%AA%A9%EB%A1%9D\n",
    "data_2022.loc[data_2022['국가']=='South Korea', 'CODE'] = 'KOR'\n",
    "data_2022.loc[data_2022['국가']=='Bahamas', 'CODE'] = 'BHM'\n",
    "data_2022.loc[data_2022['국가']=='Congo', 'CODE'] = 'COG'\n",
    "data_2022.loc[data_2022['국가']=='Gambia', 'CODE'] = 'GMB'\n",
    "data_2022.loc[data_2022['국가']=='Hong Kong SAR of China', 'CODE'] = 'HKG'\n",
    "data_2022.loc[data_2022['국가']=='Ivory Coast', 'CODE'] = 'CIV'\n",
    "data_2022.loc[data_2022['국가']=='Czechia', 'CODE'] = 'CZE'\n",
    "data_2022.loc[data_2022['국가']=='Eswatini Kingdom of', 'CODE'] = 'SWZ'\n",
    "data_2022.loc[data_2022['국가']=='Czechia', 'CODE'] = 'CZE'\n",
    "data_2022.loc[data_2022['국가']=='Myanmar', 'CODE'] = 'MMR'\n",
    "data_2022.loc[data_2022['국가']=='North Cyprus', 'CODE'] = 'CYP'\n",
    "data_2022.loc[data_2022['국가']=='North Macedonia', 'CODE'] = 'MKD'\n",
    "data_2022.loc[data_2022['국가']=='Palestinian Territories', 'CODE'] = 'PSE'\n",
    "data_2022.loc[data_2022['국가']=='Taiwan Province of China', 'CODE'] = 'TWN'"
   ]
  },
  {
   "cell_type": "code",
   "execution_count": 165,
   "id": "a4c07788",
   "metadata": {
    "scrolled": true
   },
   "outputs": [
    {
     "data": {
      "text/html": [
       "<div>\n",
       "<style scoped>\n",
       "    .dataframe tbody tr th:only-of-type {\n",
       "        vertical-align: middle;\n",
       "    }\n",
       "\n",
       "    .dataframe tbody tr th {\n",
       "        vertical-align: top;\n",
       "    }\n",
       "\n",
       "    .dataframe thead th {\n",
       "        text-align: right;\n",
       "    }\n",
       "</style>\n",
       "<table border=\"1\" class=\"dataframe\">\n",
       "  <thead>\n",
       "    <tr style=\"text-align: right;\">\n",
       "      <th></th>\n",
       "      <th>국가</th>\n",
       "      <th>행복지수</th>\n",
       "      <th>경제성(GDP)</th>\n",
       "      <th>인간관계</th>\n",
       "      <th>건강 기대 수명</th>\n",
       "      <th>자유</th>\n",
       "      <th>기부</th>\n",
       "      <th>부패 인식 정도</th>\n",
       "      <th>CODE</th>\n",
       "    </tr>\n",
       "  </thead>\n",
       "  <tbody>\n",
       "    <tr>\n",
       "      <th>144</th>\n",
       "      <td>Afghanistan</td>\n",
       "      <td>2.404</td>\n",
       "      <td>0.758</td>\n",
       "      <td>0.000</td>\n",
       "      <td>0.289</td>\n",
       "      <td>0.000</td>\n",
       "      <td>0.089</td>\n",
       "      <td>0.005</td>\n",
       "      <td>AFG</td>\n",
       "    </tr>\n",
       "    <tr>\n",
       "      <th>88</th>\n",
       "      <td>Albania</td>\n",
       "      <td>5.199</td>\n",
       "      <td>1.439</td>\n",
       "      <td>0.646</td>\n",
       "      <td>0.719</td>\n",
       "      <td>0.511</td>\n",
       "      <td>0.138</td>\n",
       "      <td>0.028</td>\n",
       "      <td>ALB</td>\n",
       "    </tr>\n",
       "    <tr>\n",
       "      <th>94</th>\n",
       "      <td>Algeria</td>\n",
       "      <td>5.122</td>\n",
       "      <td>1.363</td>\n",
       "      <td>0.970</td>\n",
       "      <td>0.643</td>\n",
       "      <td>0.146</td>\n",
       "      <td>0.106</td>\n",
       "      <td>0.150</td>\n",
       "      <td>DZA</td>\n",
       "    </tr>\n",
       "    <tr>\n",
       "      <th>55</th>\n",
       "      <td>Argentina</td>\n",
       "      <td>5.967</td>\n",
       "      <td>1.592</td>\n",
       "      <td>1.102</td>\n",
       "      <td>0.662</td>\n",
       "      <td>0.555</td>\n",
       "      <td>0.081</td>\n",
       "      <td>0.085</td>\n",
       "      <td>ARG</td>\n",
       "    </tr>\n",
       "    <tr>\n",
       "      <th>80</th>\n",
       "      <td>Armenia</td>\n",
       "      <td>5.399</td>\n",
       "      <td>1.434</td>\n",
       "      <td>0.820</td>\n",
       "      <td>0.668</td>\n",
       "      <td>0.558</td>\n",
       "      <td>0.054</td>\n",
       "      <td>0.210</td>\n",
       "      <td>ARM</td>\n",
       "    </tr>\n",
       "    <tr>\n",
       "      <th>...</th>\n",
       "      <td>...</td>\n",
       "      <td>...</td>\n",
       "      <td>...</td>\n",
       "      <td>...</td>\n",
       "      <td>...</td>\n",
       "      <td>...</td>\n",
       "      <td>...</td>\n",
       "      <td>...</td>\n",
       "      <td>...</td>\n",
       "    </tr>\n",
       "    <tr>\n",
       "      <th>106</th>\n",
       "      <td>Venezuela</td>\n",
       "      <td>4.925</td>\n",
       "      <td>0.000</td>\n",
       "      <td>0.968</td>\n",
       "      <td>0.578</td>\n",
       "      <td>0.283</td>\n",
       "      <td>0.225</td>\n",
       "      <td>0.082</td>\n",
       "      <td>VEN</td>\n",
       "    </tr>\n",
       "    <tr>\n",
       "      <th>75</th>\n",
       "      <td>Vietnam</td>\n",
       "      <td>5.485</td>\n",
       "      <td>1.252</td>\n",
       "      <td>0.932</td>\n",
       "      <td>0.611</td>\n",
       "      <td>0.707</td>\n",
       "      <td>0.143</td>\n",
       "      <td>0.105</td>\n",
       "      <td>VNM</td>\n",
       "    </tr>\n",
       "    <tr>\n",
       "      <th>130</th>\n",
       "      <td>Yemen</td>\n",
       "      <td>4.197</td>\n",
       "      <td>0.691</td>\n",
       "      <td>1.043</td>\n",
       "      <td>0.384</td>\n",
       "      <td>0.330</td>\n",
       "      <td>0.090</td>\n",
       "      <td>0.098</td>\n",
       "      <td>YEM</td>\n",
       "    </tr>\n",
       "    <tr>\n",
       "      <th>135</th>\n",
       "      <td>Zambia</td>\n",
       "      <td>3.760</td>\n",
       "      <td>0.930</td>\n",
       "      <td>0.577</td>\n",
       "      <td>0.306</td>\n",
       "      <td>0.525</td>\n",
       "      <td>0.203</td>\n",
       "      <td>0.083</td>\n",
       "      <td>ZMB</td>\n",
       "    </tr>\n",
       "    <tr>\n",
       "      <th>142</th>\n",
       "      <td>Zimbabwe</td>\n",
       "      <td>2.995</td>\n",
       "      <td>0.947</td>\n",
       "      <td>0.690</td>\n",
       "      <td>0.270</td>\n",
       "      <td>0.329</td>\n",
       "      <td>0.106</td>\n",
       "      <td>0.105</td>\n",
       "      <td>ZWE</td>\n",
       "    </tr>\n",
       "  </tbody>\n",
       "</table>\n",
       "<p>145 rows × 9 columns</p>\n",
       "</div>"
      ],
      "text/plain": [
       "              국가   행복지수  경제성(GDP)   인간관계  건강 기대 수명     자유     기부  부패 인식 정도  \\\n",
       "144  Afghanistan  2.404     0.758  0.000     0.289  0.000  0.089     0.005   \n",
       "88       Albania  5.199     1.439  0.646     0.719  0.511  0.138     0.028   \n",
       "94       Algeria  5.122     1.363  0.970     0.643  0.146  0.106     0.150   \n",
       "55     Argentina  5.967     1.592  1.102     0.662  0.555  0.081     0.085   \n",
       "80       Armenia  5.399     1.434  0.820     0.668  0.558  0.054     0.210   \n",
       "..           ...    ...       ...    ...       ...    ...    ...       ...   \n",
       "106    Venezuela  4.925     0.000  0.968     0.578  0.283  0.225     0.082   \n",
       "75       Vietnam  5.485     1.252  0.932     0.611  0.707  0.143     0.105   \n",
       "130        Yemen  4.197     0.691  1.043     0.384  0.330  0.090     0.098   \n",
       "135       Zambia  3.760     0.930  0.577     0.306  0.525  0.203     0.083   \n",
       "142     Zimbabwe  2.995     0.947  0.690     0.270  0.329  0.106     0.105   \n",
       "\n",
       "    CODE  \n",
       "144  AFG  \n",
       "88   ALB  \n",
       "94   DZA  \n",
       "55   ARG  \n",
       "80   ARM  \n",
       "..   ...  \n",
       "106  VEN  \n",
       "75   VNM  \n",
       "130  YEM  \n",
       "135  ZMB  \n",
       "142  ZWE  \n",
       "\n",
       "[145 rows x 9 columns]"
      ]
     },
     "execution_count": 165,
     "metadata": {},
     "output_type": "execute_result"
    }
   ],
   "source": [
    "data_2022"
   ]
  },
  {
   "cell_type": "code",
   "execution_count": 166,
   "id": "a10be9eb",
   "metadata": {
    "scrolled": true
   },
   "outputs": [
    {
     "data": {
      "application/vnd.plotly.v1+json": {
       "config": {
        "plotlyServerURL": "https://plot.ly"
       },
       "data": [
        {
         "autocolorscale": false,
         "colorbar": {
          "tickprefix": "0.",
          "title": {
           "text": "행복지수"
          }
         },
         "colorscale": [
          [
           0,
           "rgb(247,251,255)"
          ],
          [
           0.125,
           "rgb(222,235,247)"
          ],
          [
           0.25,
           "rgb(198,219,239)"
          ],
          [
           0.375,
           "rgb(158,202,225)"
          ],
          [
           0.5,
           "rgb(107,174,214)"
          ],
          [
           0.625,
           "rgb(66,146,198)"
          ],
          [
           0.75,
           "rgb(33,113,181)"
          ],
          [
           0.875,
           "rgb(8,81,156)"
          ],
          [
           1,
           "rgb(8,48,107)"
          ]
         ],
         "locations": [
          "AFG",
          "ALB",
          "DZA",
          "ARG",
          "ARM",
          "AUS",
          "AUT",
          "AZE",
          "BHR",
          "BGD",
          "BLR",
          "BEL",
          "BEN",
          "BOL",
          "BIH",
          "BWA",
          "BRA",
          "BGR",
          "BFA",
          "KHM",
          "CMR",
          "CAN",
          "TCD",
          "CHL",
          "CHN",
          "COL",
          "COM",
          "COG",
          "CRI",
          "HRV",
          "CYP",
          "CZE",
          "DNK",
          "DOM",
          "ECU",
          "EGY",
          "SLV",
          "EST",
          "SWZ",
          "ETH",
          "FIN",
          "GAB",
          "GMB",
          "GEO",
          "DEU",
          "GHA",
          "GRC",
          "GTM",
          "GIN",
          "HND",
          "HKG",
          "HUN",
          "ISL",
          "IND",
          "IDN",
          "IRN",
          "IRQ",
          "IRL",
          "ISR",
          "ITA",
          "CIV",
          "JAM",
          "JPN",
          "JOR",
          "KAZ",
          "KEN",
          "KSV",
          "KWT",
          "KGZ",
          "LAO",
          "LVA",
          "LBN",
          "LSO",
          "LBR",
          "LBY",
          "LTU",
          "LUX",
          "MDG",
          "MWI",
          "MYS",
          "MLI",
          "MLT",
          "MRT",
          "MUS",
          "MEX",
          "MDA",
          "MNG",
          "MNE",
          "MAR",
          "MOZ",
          "MMR",
          "NAM",
          "NPL",
          "NLD",
          "NZL",
          "NIC",
          "NER",
          "NGA",
          "CYP",
          "MKD",
          "NOR",
          "PAK",
          "PSE",
          "PAN",
          "PRY",
          "PER",
          "PHL",
          "POL",
          "PRT",
          "ROU",
          "RUS",
          "RWA",
          "SAU",
          "SEN",
          "SRB",
          "SLE",
          "SGP",
          "SVK",
          "SVN",
          "ZAF",
          "KOR",
          "ESP",
          "LKA",
          "SWE",
          "CHE",
          "TWN",
          "TJK",
          "TZA",
          "THA",
          "TGO",
          "TUN",
          "TUR",
          "TKM",
          "UGA",
          "UKR",
          "ARE",
          "GBR",
          "USA",
          "URY",
          "UZB",
          "VEN",
          "VNM",
          "YEM",
          "ZMB",
          "ZWE"
         ],
         "marker": {
          "line": {
           "color": "darkgray",
           "width": 0.5
          }
         },
         "reversescale": false,
         "text": [
          "Afghanistan",
          "Albania",
          "Algeria",
          "Argentina",
          "Armenia",
          "Australia",
          "Austria",
          "Azerbaijan",
          "Bahrain",
          "Bangladesh",
          "Belarus",
          "Belgium",
          "Benin",
          "Bolivia",
          "Bosnia and Herzegovina",
          "Botswana",
          "Brazil",
          "Bulgaria",
          "Burkina Faso",
          "Cambodia",
          "Cameroon",
          "Canada",
          "Chad",
          "Chile",
          "China",
          "Colombia",
          "Comoros",
          "Congo",
          "Costa Rica",
          "Croatia",
          "Cyprus",
          "Czechia",
          "Denmark",
          "Dominican Republic",
          "Ecuador",
          "Egypt",
          "El Salvador",
          "Estonia",
          "Eswatini Kingdom of",
          "Ethiopia",
          "Finland",
          "Gabon",
          "Gambia",
          "Georgia",
          "Germany",
          "Ghana",
          "Greece",
          "Guatemala",
          "Guinea",
          "Honduras",
          "Hong Kong SAR of China",
          "Hungary",
          "Iceland",
          "India",
          "Indonesia",
          "Iran",
          "Iraq",
          "Ireland",
          "Israel",
          "Italy",
          "Ivory Coast",
          "Jamaica",
          "Japan",
          "Jordan",
          "Kazakhstan",
          "Kenya",
          "Kosovo",
          "Kuwait",
          "Kyrgyzstan",
          "Laos",
          "Latvia",
          "Lebanon",
          "Lesotho",
          "Liberia",
          "Libya",
          "Lithuania",
          "Luxembourg",
          "Madagascar",
          "Malawi",
          "Malaysia",
          "Mali",
          "Malta",
          "Mauritania",
          "Mauritius",
          "Mexico",
          "Moldova",
          "Mongolia",
          "Montenegro",
          "Morocco",
          "Mozambique",
          "Myanmar",
          "Namibia",
          "Nepal",
          "Netherlands",
          "New Zealand",
          "Nicaragua",
          "Niger",
          "Nigeria",
          "North Cyprus",
          "North Macedonia",
          "Norway",
          "Pakistan",
          "Palestinian Territories",
          "Panama",
          "Paraguay",
          "Peru",
          "Philippines",
          "Poland",
          "Portugal",
          "Romania",
          "Russia",
          "Rwanda",
          "Saudi Arabia",
          "Senegal",
          "Serbia",
          "Sierra Leone",
          "Singapore",
          "Slovakia",
          "Slovenia",
          "South Africa",
          "South Korea",
          "Spain",
          "Sri Lanka",
          "Sweden",
          "Switzerland",
          "Taiwan Province of China",
          "Tajikistan",
          "Tanzania",
          "Thailand",
          "Togo",
          "Tunisia",
          "Turkey",
          "Turkmenistan",
          "Uganda",
          "Ukraine",
          "United Arab Emirates",
          "United Kingdom",
          "United States",
          "Uruguay",
          "Uzbekistan",
          "Venezuela",
          "Vietnam",
          "Yemen",
          "Zambia",
          "Zimbabwe"
         ],
         "type": "choropleth",
         "z": [
          2.404,
          5.199,
          5.122,
          5.967,
          5.399,
          7.162,
          7.163,
          5.173,
          6.647,
          5.155,
          5.821,
          6.805,
          4.623,
          5.6,
          5.768,
          3.471,
          6.293,
          5.371,
          4.67,
          4.64,
          5.048,
          7.025,
          4.251,
          6.172,
          5.585,
          5.781,
          4.609,
          5.075,
          6.582,
          6.125,
          6.221,
          6.92,
          7.636,
          5.737,
          5.533,
          4.288,
          6.12,
          6.341,
          4.396,
          4.241,
          7.821,
          4.958,
          5.164,
          4.973,
          7.034,
          4.872,
          5.948,
          6.262,
          4.891,
          6.022,
          5.425,
          6.086,
          7.557,
          3.777,
          5.24,
          4.888,
          4.941,
          7.041,
          7.364,
          6.467,
          5.235,
          5.85,
          6.039,
          4.152,
          6.234,
          4.543,
          6.455,
          6.106,
          5.828,
          5.14,
          6.18,
          2.955,
          3.512,
          5.122,
          5.33,
          6.446,
          7.404,
          4.339,
          3.75,
          5.711,
          4.479,
          6.447,
          4.153,
          6.071,
          6.128,
          5.857,
          5.761,
          5.547,
          5.06,
          5.048,
          4.394,
          4.459,
          5.377,
          7.415,
          7.2,
          6.165,
          5.003,
          4.552,
          5.467,
          5.199,
          7.365,
          4.516,
          4.483,
          6.309,
          5.578,
          5.559,
          5.904,
          6.123,
          6.016,
          6.477,
          5.459,
          3.268,
          6.523,
          5.046,
          6.178,
          3.574,
          6.48,
          6.391,
          6.63,
          5.194,
          5.935,
          6.476,
          4.362,
          7.384,
          7.512,
          6.512,
          5.377,
          3.702,
          5.891,
          4.112,
          4.516,
          4.744,
          5.474,
          4.603,
          5.084,
          6.576,
          6.943,
          6.977,
          6.474,
          6.063,
          4.925,
          5.485,
          4.197,
          3.76,
          2.995
         ]
        }
       ],
       "layout": {
        "annotations": [
         {
          "showarrow": false,
          "text": "Source: <a href=\"https://ko.wikipedia.org/wiki/%EA%B5%AD%EA%B0%80%EB%B3%84_%EA%B5%AD%EA%B0%80_%EC%BD%94%EB%93%9C_%EB%AA%A9%EB%A1%9D\">            국가코드</a>",
          "x": 0.55,
          "xref": "paper",
          "y": 0.1,
          "yref": "paper"
         }
        ],
        "geo": {
         "projection": {
          "type": "equirectangular"
         },
         "showcoastlines": false,
         "showframe": false
        },
        "template": {
         "data": {
          "bar": [
           {
            "error_x": {
             "color": "#2a3f5f"
            },
            "error_y": {
             "color": "#2a3f5f"
            },
            "marker": {
             "line": {
              "color": "#E5ECF6",
              "width": 0.5
             },
             "pattern": {
              "fillmode": "overlay",
              "size": 10,
              "solidity": 0.2
             }
            },
            "type": "bar"
           }
          ],
          "barpolar": [
           {
            "marker": {
             "line": {
              "color": "#E5ECF6",
              "width": 0.5
             },
             "pattern": {
              "fillmode": "overlay",
              "size": 10,
              "solidity": 0.2
             }
            },
            "type": "barpolar"
           }
          ],
          "carpet": [
           {
            "aaxis": {
             "endlinecolor": "#2a3f5f",
             "gridcolor": "white",
             "linecolor": "white",
             "minorgridcolor": "white",
             "startlinecolor": "#2a3f5f"
            },
            "baxis": {
             "endlinecolor": "#2a3f5f",
             "gridcolor": "white",
             "linecolor": "white",
             "minorgridcolor": "white",
             "startlinecolor": "#2a3f5f"
            },
            "type": "carpet"
           }
          ],
          "choropleth": [
           {
            "colorbar": {
             "outlinewidth": 0,
             "ticks": ""
            },
            "type": "choropleth"
           }
          ],
          "contour": [
           {
            "colorbar": {
             "outlinewidth": 0,
             "ticks": ""
            },
            "colorscale": [
             [
              0,
              "#0d0887"
             ],
             [
              0.1111111111111111,
              "#46039f"
             ],
             [
              0.2222222222222222,
              "#7201a8"
             ],
             [
              0.3333333333333333,
              "#9c179e"
             ],
             [
              0.4444444444444444,
              "#bd3786"
             ],
             [
              0.5555555555555556,
              "#d8576b"
             ],
             [
              0.6666666666666666,
              "#ed7953"
             ],
             [
              0.7777777777777778,
              "#fb9f3a"
             ],
             [
              0.8888888888888888,
              "#fdca26"
             ],
             [
              1,
              "#f0f921"
             ]
            ],
            "type": "contour"
           }
          ],
          "contourcarpet": [
           {
            "colorbar": {
             "outlinewidth": 0,
             "ticks": ""
            },
            "type": "contourcarpet"
           }
          ],
          "heatmap": [
           {
            "colorbar": {
             "outlinewidth": 0,
             "ticks": ""
            },
            "colorscale": [
             [
              0,
              "#0d0887"
             ],
             [
              0.1111111111111111,
              "#46039f"
             ],
             [
              0.2222222222222222,
              "#7201a8"
             ],
             [
              0.3333333333333333,
              "#9c179e"
             ],
             [
              0.4444444444444444,
              "#bd3786"
             ],
             [
              0.5555555555555556,
              "#d8576b"
             ],
             [
              0.6666666666666666,
              "#ed7953"
             ],
             [
              0.7777777777777778,
              "#fb9f3a"
             ],
             [
              0.8888888888888888,
              "#fdca26"
             ],
             [
              1,
              "#f0f921"
             ]
            ],
            "type": "heatmap"
           }
          ],
          "heatmapgl": [
           {
            "colorbar": {
             "outlinewidth": 0,
             "ticks": ""
            },
            "colorscale": [
             [
              0,
              "#0d0887"
             ],
             [
              0.1111111111111111,
              "#46039f"
             ],
             [
              0.2222222222222222,
              "#7201a8"
             ],
             [
              0.3333333333333333,
              "#9c179e"
             ],
             [
              0.4444444444444444,
              "#bd3786"
             ],
             [
              0.5555555555555556,
              "#d8576b"
             ],
             [
              0.6666666666666666,
              "#ed7953"
             ],
             [
              0.7777777777777778,
              "#fb9f3a"
             ],
             [
              0.8888888888888888,
              "#fdca26"
             ],
             [
              1,
              "#f0f921"
             ]
            ],
            "type": "heatmapgl"
           }
          ],
          "histogram": [
           {
            "marker": {
             "pattern": {
              "fillmode": "overlay",
              "size": 10,
              "solidity": 0.2
             }
            },
            "type": "histogram"
           }
          ],
          "histogram2d": [
           {
            "colorbar": {
             "outlinewidth": 0,
             "ticks": ""
            },
            "colorscale": [
             [
              0,
              "#0d0887"
             ],
             [
              0.1111111111111111,
              "#46039f"
             ],
             [
              0.2222222222222222,
              "#7201a8"
             ],
             [
              0.3333333333333333,
              "#9c179e"
             ],
             [
              0.4444444444444444,
              "#bd3786"
             ],
             [
              0.5555555555555556,
              "#d8576b"
             ],
             [
              0.6666666666666666,
              "#ed7953"
             ],
             [
              0.7777777777777778,
              "#fb9f3a"
             ],
             [
              0.8888888888888888,
              "#fdca26"
             ],
             [
              1,
              "#f0f921"
             ]
            ],
            "type": "histogram2d"
           }
          ],
          "histogram2dcontour": [
           {
            "colorbar": {
             "outlinewidth": 0,
             "ticks": ""
            },
            "colorscale": [
             [
              0,
              "#0d0887"
             ],
             [
              0.1111111111111111,
              "#46039f"
             ],
             [
              0.2222222222222222,
              "#7201a8"
             ],
             [
              0.3333333333333333,
              "#9c179e"
             ],
             [
              0.4444444444444444,
              "#bd3786"
             ],
             [
              0.5555555555555556,
              "#d8576b"
             ],
             [
              0.6666666666666666,
              "#ed7953"
             ],
             [
              0.7777777777777778,
              "#fb9f3a"
             ],
             [
              0.8888888888888888,
              "#fdca26"
             ],
             [
              1,
              "#f0f921"
             ]
            ],
            "type": "histogram2dcontour"
           }
          ],
          "mesh3d": [
           {
            "colorbar": {
             "outlinewidth": 0,
             "ticks": ""
            },
            "type": "mesh3d"
           }
          ],
          "parcoords": [
           {
            "line": {
             "colorbar": {
              "outlinewidth": 0,
              "ticks": ""
             }
            },
            "type": "parcoords"
           }
          ],
          "pie": [
           {
            "automargin": true,
            "type": "pie"
           }
          ],
          "scatter": [
           {
            "marker": {
             "colorbar": {
              "outlinewidth": 0,
              "ticks": ""
             }
            },
            "type": "scatter"
           }
          ],
          "scatter3d": [
           {
            "line": {
             "colorbar": {
              "outlinewidth": 0,
              "ticks": ""
             }
            },
            "marker": {
             "colorbar": {
              "outlinewidth": 0,
              "ticks": ""
             }
            },
            "type": "scatter3d"
           }
          ],
          "scattercarpet": [
           {
            "marker": {
             "colorbar": {
              "outlinewidth": 0,
              "ticks": ""
             }
            },
            "type": "scattercarpet"
           }
          ],
          "scattergeo": [
           {
            "marker": {
             "colorbar": {
              "outlinewidth": 0,
              "ticks": ""
             }
            },
            "type": "scattergeo"
           }
          ],
          "scattergl": [
           {
            "marker": {
             "colorbar": {
              "outlinewidth": 0,
              "ticks": ""
             }
            },
            "type": "scattergl"
           }
          ],
          "scattermapbox": [
           {
            "marker": {
             "colorbar": {
              "outlinewidth": 0,
              "ticks": ""
             }
            },
            "type": "scattermapbox"
           }
          ],
          "scatterpolar": [
           {
            "marker": {
             "colorbar": {
              "outlinewidth": 0,
              "ticks": ""
             }
            },
            "type": "scatterpolar"
           }
          ],
          "scatterpolargl": [
           {
            "marker": {
             "colorbar": {
              "outlinewidth": 0,
              "ticks": ""
             }
            },
            "type": "scatterpolargl"
           }
          ],
          "scatterternary": [
           {
            "marker": {
             "colorbar": {
              "outlinewidth": 0,
              "ticks": ""
             }
            },
            "type": "scatterternary"
           }
          ],
          "surface": [
           {
            "colorbar": {
             "outlinewidth": 0,
             "ticks": ""
            },
            "colorscale": [
             [
              0,
              "#0d0887"
             ],
             [
              0.1111111111111111,
              "#46039f"
             ],
             [
              0.2222222222222222,
              "#7201a8"
             ],
             [
              0.3333333333333333,
              "#9c179e"
             ],
             [
              0.4444444444444444,
              "#bd3786"
             ],
             [
              0.5555555555555556,
              "#d8576b"
             ],
             [
              0.6666666666666666,
              "#ed7953"
             ],
             [
              0.7777777777777778,
              "#fb9f3a"
             ],
             [
              0.8888888888888888,
              "#fdca26"
             ],
             [
              1,
              "#f0f921"
             ]
            ],
            "type": "surface"
           }
          ],
          "table": [
           {
            "cells": {
             "fill": {
              "color": "#EBF0F8"
             },
             "line": {
              "color": "white"
             }
            },
            "header": {
             "fill": {
              "color": "#C8D4E3"
             },
             "line": {
              "color": "white"
             }
            },
            "type": "table"
           }
          ]
         },
         "layout": {
          "annotationdefaults": {
           "arrowcolor": "#2a3f5f",
           "arrowhead": 0,
           "arrowwidth": 1
          },
          "autotypenumbers": "strict",
          "coloraxis": {
           "colorbar": {
            "outlinewidth": 0,
            "ticks": ""
           }
          },
          "colorscale": {
           "diverging": [
            [
             0,
             "#8e0152"
            ],
            [
             0.1,
             "#c51b7d"
            ],
            [
             0.2,
             "#de77ae"
            ],
            [
             0.3,
             "#f1b6da"
            ],
            [
             0.4,
             "#fde0ef"
            ],
            [
             0.5,
             "#f7f7f7"
            ],
            [
             0.6,
             "#e6f5d0"
            ],
            [
             0.7,
             "#b8e186"
            ],
            [
             0.8,
             "#7fbc41"
            ],
            [
             0.9,
             "#4d9221"
            ],
            [
             1,
             "#276419"
            ]
           ],
           "sequential": [
            [
             0,
             "#0d0887"
            ],
            [
             0.1111111111111111,
             "#46039f"
            ],
            [
             0.2222222222222222,
             "#7201a8"
            ],
            [
             0.3333333333333333,
             "#9c179e"
            ],
            [
             0.4444444444444444,
             "#bd3786"
            ],
            [
             0.5555555555555556,
             "#d8576b"
            ],
            [
             0.6666666666666666,
             "#ed7953"
            ],
            [
             0.7777777777777778,
             "#fb9f3a"
            ],
            [
             0.8888888888888888,
             "#fdca26"
            ],
            [
             1,
             "#f0f921"
            ]
           ],
           "sequentialminus": [
            [
             0,
             "#0d0887"
            ],
            [
             0.1111111111111111,
             "#46039f"
            ],
            [
             0.2222222222222222,
             "#7201a8"
            ],
            [
             0.3333333333333333,
             "#9c179e"
            ],
            [
             0.4444444444444444,
             "#bd3786"
            ],
            [
             0.5555555555555556,
             "#d8576b"
            ],
            [
             0.6666666666666666,
             "#ed7953"
            ],
            [
             0.7777777777777778,
             "#fb9f3a"
            ],
            [
             0.8888888888888888,
             "#fdca26"
            ],
            [
             1,
             "#f0f921"
            ]
           ]
          },
          "colorway": [
           "#636efa",
           "#EF553B",
           "#00cc96",
           "#ab63fa",
           "#FFA15A",
           "#19d3f3",
           "#FF6692",
           "#B6E880",
           "#FF97FF",
           "#FECB52"
          ],
          "font": {
           "color": "#2a3f5f"
          },
          "geo": {
           "bgcolor": "white",
           "lakecolor": "white",
           "landcolor": "#E5ECF6",
           "showlakes": true,
           "showland": true,
           "subunitcolor": "white"
          },
          "hoverlabel": {
           "align": "left"
          },
          "hovermode": "closest",
          "mapbox": {
           "style": "light"
          },
          "paper_bgcolor": "white",
          "plot_bgcolor": "#E5ECF6",
          "polar": {
           "angularaxis": {
            "gridcolor": "white",
            "linecolor": "white",
            "ticks": ""
           },
           "bgcolor": "#E5ECF6",
           "radialaxis": {
            "gridcolor": "white",
            "linecolor": "white",
            "ticks": ""
           }
          },
          "scene": {
           "xaxis": {
            "backgroundcolor": "#E5ECF6",
            "gridcolor": "white",
            "gridwidth": 2,
            "linecolor": "white",
            "showbackground": true,
            "ticks": "",
            "zerolinecolor": "white"
           },
           "yaxis": {
            "backgroundcolor": "#E5ECF6",
            "gridcolor": "white",
            "gridwidth": 2,
            "linecolor": "white",
            "showbackground": true,
            "ticks": "",
            "zerolinecolor": "white"
           },
           "zaxis": {
            "backgroundcolor": "#E5ECF6",
            "gridcolor": "white",
            "gridwidth": 2,
            "linecolor": "white",
            "showbackground": true,
            "ticks": "",
            "zerolinecolor": "white"
           }
          },
          "shapedefaults": {
           "line": {
            "color": "#2a3f5f"
           }
          },
          "ternary": {
           "aaxis": {
            "gridcolor": "white",
            "linecolor": "white",
            "ticks": ""
           },
           "baxis": {
            "gridcolor": "white",
            "linecolor": "white",
            "ticks": ""
           },
           "bgcolor": "#E5ECF6",
           "caxis": {
            "gridcolor": "white",
            "linecolor": "white",
            "ticks": ""
           }
          },
          "title": {
           "x": 0.05
          },
          "xaxis": {
           "automargin": true,
           "gridcolor": "white",
           "linecolor": "white",
           "ticks": "",
           "title": {
            "standoff": 15
           },
           "zerolinecolor": "white",
           "zerolinewidth": 2
          },
          "yaxis": {
           "automargin": true,
           "gridcolor": "white",
           "linecolor": "white",
           "ticks": "",
           "title": {
            "standoff": 15
           },
           "zerolinecolor": "white",
           "zerolinewidth": 2
          }
         }
        },
        "title": {
         "text": "2022년 행복지수 세계지도 시각화"
        }
       }
      },
      "text/html": [
       "<div>                            <div id=\"624c72b8-d8bd-4282-8583-0a19a5be38fd\" class=\"plotly-graph-div\" style=\"height:525px; width:100%;\"></div>            <script type=\"text/javascript\">                require([\"plotly\"], function(Plotly) {                    window.PLOTLYENV=window.PLOTLYENV || {};                                    if (document.getElementById(\"624c72b8-d8bd-4282-8583-0a19a5be38fd\")) {                    Plotly.newPlot(                        \"624c72b8-d8bd-4282-8583-0a19a5be38fd\",                        [{\"autocolorscale\":false,\"colorbar\":{\"tickprefix\":\"0.\",\"title\":{\"text\":\"\\ud589\\ubcf5\\uc9c0\\uc218\"}},\"colorscale\":[[0.0,\"rgb(247,251,255)\"],[0.125,\"rgb(222,235,247)\"],[0.25,\"rgb(198,219,239)\"],[0.375,\"rgb(158,202,225)\"],[0.5,\"rgb(107,174,214)\"],[0.625,\"rgb(66,146,198)\"],[0.75,\"rgb(33,113,181)\"],[0.875,\"rgb(8,81,156)\"],[1.0,\"rgb(8,48,107)\"]],\"locations\":[\"AFG\",\"ALB\",\"DZA\",\"ARG\",\"ARM\",\"AUS\",\"AUT\",\"AZE\",\"BHR\",\"BGD\",\"BLR\",\"BEL\",\"BEN\",\"BOL\",\"BIH\",\"BWA\",\"BRA\",\"BGR\",\"BFA\",\"KHM\",\"CMR\",\"CAN\",\"TCD\",\"CHL\",\"CHN\",\"COL\",\"COM\",\"COG\",\"CRI\",\"HRV\",\"CYP\",\"CZE\",\"DNK\",\"DOM\",\"ECU\",\"EGY\",\"SLV\",\"EST\",\"SWZ\",\"ETH\",\"FIN\",\"GAB\",\"GMB\",\"GEO\",\"DEU\",\"GHA\",\"GRC\",\"GTM\",\"GIN\",\"HND\",\"HKG\",\"HUN\",\"ISL\",\"IND\",\"IDN\",\"IRN\",\"IRQ\",\"IRL\",\"ISR\",\"ITA\",\"CIV\",\"JAM\",\"JPN\",\"JOR\",\"KAZ\",\"KEN\",\"KSV\",\"KWT\",\"KGZ\",\"LAO\",\"LVA\",\"LBN\",\"LSO\",\"LBR\",\"LBY\",\"LTU\",\"LUX\",\"MDG\",\"MWI\",\"MYS\",\"MLI\",\"MLT\",\"MRT\",\"MUS\",\"MEX\",\"MDA\",\"MNG\",\"MNE\",\"MAR\",\"MOZ\",\"MMR\",\"NAM\",\"NPL\",\"NLD\",\"NZL\",\"NIC\",\"NER\",\"NGA\",\"CYP\",\"MKD\",\"NOR\",\"PAK\",\"PSE\",\"PAN\",\"PRY\",\"PER\",\"PHL\",\"POL\",\"PRT\",\"ROU\",\"RUS\",\"RWA\",\"SAU\",\"SEN\",\"SRB\",\"SLE\",\"SGP\",\"SVK\",\"SVN\",\"ZAF\",\"KOR\",\"ESP\",\"LKA\",\"SWE\",\"CHE\",\"TWN\",\"TJK\",\"TZA\",\"THA\",\"TGO\",\"TUN\",\"TUR\",\"TKM\",\"UGA\",\"UKR\",\"ARE\",\"GBR\",\"USA\",\"URY\",\"UZB\",\"VEN\",\"VNM\",\"YEM\",\"ZMB\",\"ZWE\"],\"marker\":{\"line\":{\"color\":\"darkgray\",\"width\":0.5}},\"reversescale\":false,\"text\":[\"Afghanistan\",\"Albania\",\"Algeria\",\"Argentina\",\"Armenia\",\"Australia\",\"Austria\",\"Azerbaijan\",\"Bahrain\",\"Bangladesh\",\"Belarus\",\"Belgium\",\"Benin\",\"Bolivia\",\"Bosnia and Herzegovina\",\"Botswana\",\"Brazil\",\"Bulgaria\",\"Burkina Faso\",\"Cambodia\",\"Cameroon\",\"Canada\",\"Chad\",\"Chile\",\"China\",\"Colombia\",\"Comoros\",\"Congo\",\"Costa Rica\",\"Croatia\",\"Cyprus\",\"Czechia\",\"Denmark\",\"Dominican Republic\",\"Ecuador\",\"Egypt\",\"El Salvador\",\"Estonia\",\"Eswatini Kingdom of\",\"Ethiopia\",\"Finland\",\"Gabon\",\"Gambia\",\"Georgia\",\"Germany\",\"Ghana\",\"Greece\",\"Guatemala\",\"Guinea\",\"Honduras\",\"Hong Kong SAR of China\",\"Hungary\",\"Iceland\",\"India\",\"Indonesia\",\"Iran\",\"Iraq\",\"Ireland\",\"Israel\",\"Italy\",\"Ivory Coast\",\"Jamaica\",\"Japan\",\"Jordan\",\"Kazakhstan\",\"Kenya\",\"Kosovo\",\"Kuwait\",\"Kyrgyzstan\",\"Laos\",\"Latvia\",\"Lebanon\",\"Lesotho\",\"Liberia\",\"Libya\",\"Lithuania\",\"Luxembourg\",\"Madagascar\",\"Malawi\",\"Malaysia\",\"Mali\",\"Malta\",\"Mauritania\",\"Mauritius\",\"Mexico\",\"Moldova\",\"Mongolia\",\"Montenegro\",\"Morocco\",\"Mozambique\",\"Myanmar\",\"Namibia\",\"Nepal\",\"Netherlands\",\"New Zealand\",\"Nicaragua\",\"Niger\",\"Nigeria\",\"North Cyprus\",\"North Macedonia\",\"Norway\",\"Pakistan\",\"Palestinian Territories\",\"Panama\",\"Paraguay\",\"Peru\",\"Philippines\",\"Poland\",\"Portugal\",\"Romania\",\"Russia\",\"Rwanda\",\"Saudi Arabia\",\"Senegal\",\"Serbia\",\"Sierra Leone\",\"Singapore\",\"Slovakia\",\"Slovenia\",\"South Africa\",\"South Korea\",\"Spain\",\"Sri Lanka\",\"Sweden\",\"Switzerland\",\"Taiwan Province of China\",\"Tajikistan\",\"Tanzania\",\"Thailand\",\"Togo\",\"Tunisia\",\"Turkey\",\"Turkmenistan\",\"Uganda\",\"Ukraine\",\"United Arab Emirates\",\"United Kingdom\",\"United States\",\"Uruguay\",\"Uzbekistan\",\"Venezuela\",\"Vietnam\",\"Yemen\",\"Zambia\",\"Zimbabwe\"],\"z\":[2.404,5.199,5.122,5.967,5.399,7.162,7.163,5.173,6.647,5.155,5.821,6.805,4.623,5.6,5.768,3.471,6.293,5.371,4.67,4.64,5.048,7.025,4.251,6.172,5.585,5.781,4.609,5.075,6.582,6.125,6.221,6.92,7.636,5.737,5.533,4.288,6.12,6.341,4.396,4.241,7.821,4.958,5.164,4.973,7.034,4.872,5.948,6.262,4.891,6.022,5.425,6.086,7.557,3.777,5.24,4.888,4.941,7.041,7.364,6.467,5.235,5.85,6.039,4.152,6.234,4.543,6.455,6.106,5.828,5.14,6.18,2.955,3.512,5.122,5.33,6.446,7.404,4.339,3.75,5.711,4.479,6.447,4.153,6.071,6.128,5.857,5.761,5.547,5.06,5.048,4.394,4.459,5.377,7.415,7.2,6.165,5.003,4.552,5.467,5.199,7.365,4.516,4.483,6.309,5.578,5.559,5.904,6.123,6.016,6.477,5.459,3.268,6.523,5.046,6.178,3.574,6.48,6.391,6.63,5.194,5.935,6.476,4.362,7.384,7.512,6.512,5.377,3.702,5.891,4.112,4.516,4.744,5.474,4.603,5.084,6.576,6.943,6.977,6.474,6.063,4.925,5.485,4.197,3.76,2.995],\"type\":\"choropleth\"}],                        {\"template\":{\"data\":{\"bar\":[{\"error_x\":{\"color\":\"#2a3f5f\"},\"error_y\":{\"color\":\"#2a3f5f\"},\"marker\":{\"line\":{\"color\":\"#E5ECF6\",\"width\":0.5},\"pattern\":{\"fillmode\":\"overlay\",\"size\":10,\"solidity\":0.2}},\"type\":\"bar\"}],\"barpolar\":[{\"marker\":{\"line\":{\"color\":\"#E5ECF6\",\"width\":0.5},\"pattern\":{\"fillmode\":\"overlay\",\"size\":10,\"solidity\":0.2}},\"type\":\"barpolar\"}],\"carpet\":[{\"aaxis\":{\"endlinecolor\":\"#2a3f5f\",\"gridcolor\":\"white\",\"linecolor\":\"white\",\"minorgridcolor\":\"white\",\"startlinecolor\":\"#2a3f5f\"},\"baxis\":{\"endlinecolor\":\"#2a3f5f\",\"gridcolor\":\"white\",\"linecolor\":\"white\",\"minorgridcolor\":\"white\",\"startlinecolor\":\"#2a3f5f\"},\"type\":\"carpet\"}],\"choropleth\":[{\"colorbar\":{\"outlinewidth\":0,\"ticks\":\"\"},\"type\":\"choropleth\"}],\"contour\":[{\"colorbar\":{\"outlinewidth\":0,\"ticks\":\"\"},\"colorscale\":[[0.0,\"#0d0887\"],[0.1111111111111111,\"#46039f\"],[0.2222222222222222,\"#7201a8\"],[0.3333333333333333,\"#9c179e\"],[0.4444444444444444,\"#bd3786\"],[0.5555555555555556,\"#d8576b\"],[0.6666666666666666,\"#ed7953\"],[0.7777777777777778,\"#fb9f3a\"],[0.8888888888888888,\"#fdca26\"],[1.0,\"#f0f921\"]],\"type\":\"contour\"}],\"contourcarpet\":[{\"colorbar\":{\"outlinewidth\":0,\"ticks\":\"\"},\"type\":\"contourcarpet\"}],\"heatmap\":[{\"colorbar\":{\"outlinewidth\":0,\"ticks\":\"\"},\"colorscale\":[[0.0,\"#0d0887\"],[0.1111111111111111,\"#46039f\"],[0.2222222222222222,\"#7201a8\"],[0.3333333333333333,\"#9c179e\"],[0.4444444444444444,\"#bd3786\"],[0.5555555555555556,\"#d8576b\"],[0.6666666666666666,\"#ed7953\"],[0.7777777777777778,\"#fb9f3a\"],[0.8888888888888888,\"#fdca26\"],[1.0,\"#f0f921\"]],\"type\":\"heatmap\"}],\"heatmapgl\":[{\"colorbar\":{\"outlinewidth\":0,\"ticks\":\"\"},\"colorscale\":[[0.0,\"#0d0887\"],[0.1111111111111111,\"#46039f\"],[0.2222222222222222,\"#7201a8\"],[0.3333333333333333,\"#9c179e\"],[0.4444444444444444,\"#bd3786\"],[0.5555555555555556,\"#d8576b\"],[0.6666666666666666,\"#ed7953\"],[0.7777777777777778,\"#fb9f3a\"],[0.8888888888888888,\"#fdca26\"],[1.0,\"#f0f921\"]],\"type\":\"heatmapgl\"}],\"histogram\":[{\"marker\":{\"pattern\":{\"fillmode\":\"overlay\",\"size\":10,\"solidity\":0.2}},\"type\":\"histogram\"}],\"histogram2d\":[{\"colorbar\":{\"outlinewidth\":0,\"ticks\":\"\"},\"colorscale\":[[0.0,\"#0d0887\"],[0.1111111111111111,\"#46039f\"],[0.2222222222222222,\"#7201a8\"],[0.3333333333333333,\"#9c179e\"],[0.4444444444444444,\"#bd3786\"],[0.5555555555555556,\"#d8576b\"],[0.6666666666666666,\"#ed7953\"],[0.7777777777777778,\"#fb9f3a\"],[0.8888888888888888,\"#fdca26\"],[1.0,\"#f0f921\"]],\"type\":\"histogram2d\"}],\"histogram2dcontour\":[{\"colorbar\":{\"outlinewidth\":0,\"ticks\":\"\"},\"colorscale\":[[0.0,\"#0d0887\"],[0.1111111111111111,\"#46039f\"],[0.2222222222222222,\"#7201a8\"],[0.3333333333333333,\"#9c179e\"],[0.4444444444444444,\"#bd3786\"],[0.5555555555555556,\"#d8576b\"],[0.6666666666666666,\"#ed7953\"],[0.7777777777777778,\"#fb9f3a\"],[0.8888888888888888,\"#fdca26\"],[1.0,\"#f0f921\"]],\"type\":\"histogram2dcontour\"}],\"mesh3d\":[{\"colorbar\":{\"outlinewidth\":0,\"ticks\":\"\"},\"type\":\"mesh3d\"}],\"parcoords\":[{\"line\":{\"colorbar\":{\"outlinewidth\":0,\"ticks\":\"\"}},\"type\":\"parcoords\"}],\"pie\":[{\"automargin\":true,\"type\":\"pie\"}],\"scatter\":[{\"marker\":{\"colorbar\":{\"outlinewidth\":0,\"ticks\":\"\"}},\"type\":\"scatter\"}],\"scatter3d\":[{\"line\":{\"colorbar\":{\"outlinewidth\":0,\"ticks\":\"\"}},\"marker\":{\"colorbar\":{\"outlinewidth\":0,\"ticks\":\"\"}},\"type\":\"scatter3d\"}],\"scattercarpet\":[{\"marker\":{\"colorbar\":{\"outlinewidth\":0,\"ticks\":\"\"}},\"type\":\"scattercarpet\"}],\"scattergeo\":[{\"marker\":{\"colorbar\":{\"outlinewidth\":0,\"ticks\":\"\"}},\"type\":\"scattergeo\"}],\"scattergl\":[{\"marker\":{\"colorbar\":{\"outlinewidth\":0,\"ticks\":\"\"}},\"type\":\"scattergl\"}],\"scattermapbox\":[{\"marker\":{\"colorbar\":{\"outlinewidth\":0,\"ticks\":\"\"}},\"type\":\"scattermapbox\"}],\"scatterpolar\":[{\"marker\":{\"colorbar\":{\"outlinewidth\":0,\"ticks\":\"\"}},\"type\":\"scatterpolar\"}],\"scatterpolargl\":[{\"marker\":{\"colorbar\":{\"outlinewidth\":0,\"ticks\":\"\"}},\"type\":\"scatterpolargl\"}],\"scatterternary\":[{\"marker\":{\"colorbar\":{\"outlinewidth\":0,\"ticks\":\"\"}},\"type\":\"scatterternary\"}],\"surface\":[{\"colorbar\":{\"outlinewidth\":0,\"ticks\":\"\"},\"colorscale\":[[0.0,\"#0d0887\"],[0.1111111111111111,\"#46039f\"],[0.2222222222222222,\"#7201a8\"],[0.3333333333333333,\"#9c179e\"],[0.4444444444444444,\"#bd3786\"],[0.5555555555555556,\"#d8576b\"],[0.6666666666666666,\"#ed7953\"],[0.7777777777777778,\"#fb9f3a\"],[0.8888888888888888,\"#fdca26\"],[1.0,\"#f0f921\"]],\"type\":\"surface\"}],\"table\":[{\"cells\":{\"fill\":{\"color\":\"#EBF0F8\"},\"line\":{\"color\":\"white\"}},\"header\":{\"fill\":{\"color\":\"#C8D4E3\"},\"line\":{\"color\":\"white\"}},\"type\":\"table\"}]},\"layout\":{\"annotationdefaults\":{\"arrowcolor\":\"#2a3f5f\",\"arrowhead\":0,\"arrowwidth\":1},\"autotypenumbers\":\"strict\",\"coloraxis\":{\"colorbar\":{\"outlinewidth\":0,\"ticks\":\"\"}},\"colorscale\":{\"diverging\":[[0,\"#8e0152\"],[0.1,\"#c51b7d\"],[0.2,\"#de77ae\"],[0.3,\"#f1b6da\"],[0.4,\"#fde0ef\"],[0.5,\"#f7f7f7\"],[0.6,\"#e6f5d0\"],[0.7,\"#b8e186\"],[0.8,\"#7fbc41\"],[0.9,\"#4d9221\"],[1,\"#276419\"]],\"sequential\":[[0.0,\"#0d0887\"],[0.1111111111111111,\"#46039f\"],[0.2222222222222222,\"#7201a8\"],[0.3333333333333333,\"#9c179e\"],[0.4444444444444444,\"#bd3786\"],[0.5555555555555556,\"#d8576b\"],[0.6666666666666666,\"#ed7953\"],[0.7777777777777778,\"#fb9f3a\"],[0.8888888888888888,\"#fdca26\"],[1.0,\"#f0f921\"]],\"sequentialminus\":[[0.0,\"#0d0887\"],[0.1111111111111111,\"#46039f\"],[0.2222222222222222,\"#7201a8\"],[0.3333333333333333,\"#9c179e\"],[0.4444444444444444,\"#bd3786\"],[0.5555555555555556,\"#d8576b\"],[0.6666666666666666,\"#ed7953\"],[0.7777777777777778,\"#fb9f3a\"],[0.8888888888888888,\"#fdca26\"],[1.0,\"#f0f921\"]]},\"colorway\":[\"#636efa\",\"#EF553B\",\"#00cc96\",\"#ab63fa\",\"#FFA15A\",\"#19d3f3\",\"#FF6692\",\"#B6E880\",\"#FF97FF\",\"#FECB52\"],\"font\":{\"color\":\"#2a3f5f\"},\"geo\":{\"bgcolor\":\"white\",\"lakecolor\":\"white\",\"landcolor\":\"#E5ECF6\",\"showlakes\":true,\"showland\":true,\"subunitcolor\":\"white\"},\"hoverlabel\":{\"align\":\"left\"},\"hovermode\":\"closest\",\"mapbox\":{\"style\":\"light\"},\"paper_bgcolor\":\"white\",\"plot_bgcolor\":\"#E5ECF6\",\"polar\":{\"angularaxis\":{\"gridcolor\":\"white\",\"linecolor\":\"white\",\"ticks\":\"\"},\"bgcolor\":\"#E5ECF6\",\"radialaxis\":{\"gridcolor\":\"white\",\"linecolor\":\"white\",\"ticks\":\"\"}},\"scene\":{\"xaxis\":{\"backgroundcolor\":\"#E5ECF6\",\"gridcolor\":\"white\",\"gridwidth\":2,\"linecolor\":\"white\",\"showbackground\":true,\"ticks\":\"\",\"zerolinecolor\":\"white\"},\"yaxis\":{\"backgroundcolor\":\"#E5ECF6\",\"gridcolor\":\"white\",\"gridwidth\":2,\"linecolor\":\"white\",\"showbackground\":true,\"ticks\":\"\",\"zerolinecolor\":\"white\"},\"zaxis\":{\"backgroundcolor\":\"#E5ECF6\",\"gridcolor\":\"white\",\"gridwidth\":2,\"linecolor\":\"white\",\"showbackground\":true,\"ticks\":\"\",\"zerolinecolor\":\"white\"}},\"shapedefaults\":{\"line\":{\"color\":\"#2a3f5f\"}},\"ternary\":{\"aaxis\":{\"gridcolor\":\"white\",\"linecolor\":\"white\",\"ticks\":\"\"},\"baxis\":{\"gridcolor\":\"white\",\"linecolor\":\"white\",\"ticks\":\"\"},\"bgcolor\":\"#E5ECF6\",\"caxis\":{\"gridcolor\":\"white\",\"linecolor\":\"white\",\"ticks\":\"\"}},\"title\":{\"x\":0.05},\"xaxis\":{\"automargin\":true,\"gridcolor\":\"white\",\"linecolor\":\"white\",\"ticks\":\"\",\"title\":{\"standoff\":15},\"zerolinecolor\":\"white\",\"zerolinewidth\":2},\"yaxis\":{\"automargin\":true,\"gridcolor\":\"white\",\"linecolor\":\"white\",\"ticks\":\"\",\"title\":{\"standoff\":15},\"zerolinecolor\":\"white\",\"zerolinewidth\":2}}},\"title\":{\"text\":\"2022\\ub144 \\ud589\\ubcf5\\uc9c0\\uc218 \\uc138\\uacc4\\uc9c0\\ub3c4 \\uc2dc\\uac01\\ud654\"},\"geo\":{\"projection\":{\"type\":\"equirectangular\"},\"showframe\":false,\"showcoastlines\":false},\"annotations\":[{\"showarrow\":false,\"text\":\"Source: <a href=\\\"https://ko.wikipedia.org/wiki/%EA%B5%AD%EA%B0%80%EB%B3%84_%EA%B5%AD%EA%B0%80_%EC%BD%94%EB%93%9C_%EB%AA%A9%EB%A1%9D\\\">            \\uad6d\\uac00\\ucf54\\ub4dc</a>\",\"x\":0.55,\"xref\":\"paper\",\"y\":0.1,\"yref\":\"paper\"}]},                        {\"responsive\": true}                    ).then(function(){\n",
       "                            \n",
       "var gd = document.getElementById('624c72b8-d8bd-4282-8583-0a19a5be38fd');\n",
       "var x = new MutationObserver(function (mutations, observer) {{\n",
       "        var display = window.getComputedStyle(gd).display;\n",
       "        if (!display || display === 'none') {{\n",
       "            console.log([gd, 'removed!']);\n",
       "            Plotly.purge(gd);\n",
       "            observer.disconnect();\n",
       "        }}\n",
       "}});\n",
       "\n",
       "// Listen for the removal of the full notebook cells\n",
       "var notebookContainer = gd.closest('#notebook-container');\n",
       "if (notebookContainer) {{\n",
       "    x.observe(notebookContainer, {childList: true});\n",
       "}}\n",
       "\n",
       "// Listen for the clearing of the current output cell\n",
       "var outputEl = gd.closest('.output');\n",
       "if (outputEl) {{\n",
       "    x.observe(outputEl, {childList: true});\n",
       "}}\n",
       "\n",
       "                        })                };                });            </script>        </div>"
      ]
     },
     "metadata": {},
     "output_type": "display_data"
    }
   ],
   "source": [
    "# 세계 지도 그리기\n",
    "fig = go.Figure(data=go.Choropleth(\n",
    "    locations = data_2022['CODE'],\n",
    "    z = data_2022['행복지수'],\n",
    "    text = data_2022['국가'],\n",
    "    colorscale = 'Blues',\n",
    "    autocolorscale=False,\n",
    "    reversescale=False,\n",
    "    marker_line_color='darkgray',\n",
    "    marker_line_width=0.5,\n",
    "    colorbar_tickprefix = '0.',\n",
    "    colorbar_title = '행복지수',\n",
    "))\n",
    "\n",
    "# 제목, 아래에 문구 표시\n",
    "fig.update_layout(\n",
    "    title_text='2022년 행복지수 세계지도 시각화',\n",
    "    geo=dict(\n",
    "        showframe=False,\n",
    "        showcoastlines=False,\n",
    "        projection_type='equirectangular'\n",
    "    ),\n",
    "    annotations = [dict(\n",
    "        x=0.55,\n",
    "        y=0.1,\n",
    "        xref='paper',\n",
    "        yref='paper',\n",
    "        text='Source: <a href=\"https://ko.wikipedia.org/wiki/%EA%B5%AD%EA%B0%80%EB%B3%84_%EA%B5%AD%EA%B0%80_%EC%BD%94%EB%93%9C_%EB%AA%A9%EB%A1%9D\">\\\n",
    "            국가코드</a>',\n",
    "        showarrow = False\n",
    "    )]\n",
    ")\n",
    "\n",
    "# 진한 파란색일수록 행복지수가 높은 국가\n",
    "fig.show()"
   ]
  },
  {
   "cell_type": "markdown",
   "id": "6ce845b8",
   "metadata": {},
   "source": [
    "## 2.5. 2022 세계 행복지수 순위"
   ]
  },
  {
   "cell_type": "markdown",
   "id": "f7d6694e",
   "metadata": {},
   "source": [
    "### 2.5.1. 가장 행복한 국가 top5"
   ]
  },
  {
   "cell_type": "code",
   "execution_count": 167,
   "id": "6d1a3abc",
   "metadata": {
    "scrolled": true
   },
   "outputs": [
    {
     "data": {
      "text/html": [
       "<div>\n",
       "<style scoped>\n",
       "    .dataframe tbody tr th:only-of-type {\n",
       "        vertical-align: middle;\n",
       "    }\n",
       "\n",
       "    .dataframe tbody tr th {\n",
       "        vertical-align: top;\n",
       "    }\n",
       "\n",
       "    .dataframe thead th {\n",
       "        text-align: right;\n",
       "    }\n",
       "</style>\n",
       "<table border=\"1\" class=\"dataframe\">\n",
       "  <thead>\n",
       "    <tr style=\"text-align: right;\">\n",
       "      <th>순위</th>\n",
       "      <th>국가</th>\n",
       "      <th>행복지수</th>\n",
       "      <th>경제성(GDP)</th>\n",
       "      <th>인간관계</th>\n",
       "      <th>건강 기대 수명</th>\n",
       "      <th>자유</th>\n",
       "      <th>기부</th>\n",
       "      <th>부패 인식 정도</th>\n",
       "    </tr>\n",
       "  </thead>\n",
       "  <tbody>\n",
       "    <tr>\n",
       "      <th>1</th>\n",
       "      <td>Finland</td>\n",
       "      <td>7.821</td>\n",
       "      <td>1.892</td>\n",
       "      <td>1.258</td>\n",
       "      <td>0.775</td>\n",
       "      <td>0.736</td>\n",
       "      <td>0.109</td>\n",
       "      <td>0.534</td>\n",
       "    </tr>\n",
       "    <tr>\n",
       "      <th>2</th>\n",
       "      <td>Denmark</td>\n",
       "      <td>7.636</td>\n",
       "      <td>1.953</td>\n",
       "      <td>1.243</td>\n",
       "      <td>0.777</td>\n",
       "      <td>0.719</td>\n",
       "      <td>0.188</td>\n",
       "      <td>0.532</td>\n",
       "    </tr>\n",
       "    <tr>\n",
       "      <th>3</th>\n",
       "      <td>Iceland</td>\n",
       "      <td>7.557</td>\n",
       "      <td>1.936</td>\n",
       "      <td>1.320</td>\n",
       "      <td>0.803</td>\n",
       "      <td>0.718</td>\n",
       "      <td>0.270</td>\n",
       "      <td>0.191</td>\n",
       "    </tr>\n",
       "    <tr>\n",
       "      <th>4</th>\n",
       "      <td>Switzerland</td>\n",
       "      <td>7.512</td>\n",
       "      <td>2.026</td>\n",
       "      <td>1.226</td>\n",
       "      <td>0.822</td>\n",
       "      <td>0.677</td>\n",
       "      <td>0.147</td>\n",
       "      <td>0.461</td>\n",
       "    </tr>\n",
       "    <tr>\n",
       "      <th>5</th>\n",
       "      <td>Netherlands</td>\n",
       "      <td>7.415</td>\n",
       "      <td>1.945</td>\n",
       "      <td>1.206</td>\n",
       "      <td>0.787</td>\n",
       "      <td>0.651</td>\n",
       "      <td>0.271</td>\n",
       "      <td>0.419</td>\n",
       "    </tr>\n",
       "  </tbody>\n",
       "</table>\n",
       "</div>"
      ],
      "text/plain": [
       "순위           국가   행복지수  경제성(GDP)   인간관계  건강 기대 수명     자유     기부  부패 인식 정도\n",
       "1       Finland  7.821     1.892  1.258     0.775  0.736  0.109     0.534\n",
       "2       Denmark  7.636     1.953  1.243     0.777  0.719  0.188     0.532\n",
       "3       Iceland  7.557     1.936  1.320     0.803  0.718  0.270     0.191\n",
       "4   Switzerland  7.512     2.026  1.226     0.822  0.677  0.147     0.461\n",
       "5   Netherlands  7.415     1.945  1.206     0.787  0.651  0.271     0.419"
      ]
     },
     "execution_count": 167,
     "metadata": {},
     "output_type": "execute_result"
    }
   ],
   "source": [
    "high = target_data.head()\n",
    "high.columns.names = [\"순위\"]\n",
    "high"
   ]
  },
  {
   "cell_type": "markdown",
   "id": "561cb804",
   "metadata": {},
   "source": [
    "### 2.5.2. 가장 불행한 국가 top5"
   ]
  },
  {
   "cell_type": "code",
   "execution_count": 168,
   "id": "5c133d33",
   "metadata": {
    "scrolled": true
   },
   "outputs": [
    {
     "data": {
      "text/html": [
       "<div>\n",
       "<style scoped>\n",
       "    .dataframe tbody tr th:only-of-type {\n",
       "        vertical-align: middle;\n",
       "    }\n",
       "\n",
       "    .dataframe tbody tr th {\n",
       "        vertical-align: top;\n",
       "    }\n",
       "\n",
       "    .dataframe thead th {\n",
       "        text-align: right;\n",
       "    }\n",
       "</style>\n",
       "<table border=\"1\" class=\"dataframe\">\n",
       "  <thead>\n",
       "    <tr style=\"text-align: right;\">\n",
       "      <th>순위</th>\n",
       "      <th>국가</th>\n",
       "      <th>행복지수</th>\n",
       "      <th>경제성(GDP)</th>\n",
       "      <th>인간관계</th>\n",
       "      <th>건강 기대 수명</th>\n",
       "      <th>자유</th>\n",
       "      <th>기부</th>\n",
       "      <th>부패 인식 정도</th>\n",
       "    </tr>\n",
       "  </thead>\n",
       "  <tbody>\n",
       "    <tr>\n",
       "      <th>141</th>\n",
       "      <td>Botswana</td>\n",
       "      <td>3.471</td>\n",
       "      <td>1.503</td>\n",
       "      <td>0.815</td>\n",
       "      <td>0.280</td>\n",
       "      <td>0.571</td>\n",
       "      <td>0.012</td>\n",
       "      <td>0.102</td>\n",
       "    </tr>\n",
       "    <tr>\n",
       "      <th>142</th>\n",
       "      <td>Rwanda</td>\n",
       "      <td>3.268</td>\n",
       "      <td>0.785</td>\n",
       "      <td>0.133</td>\n",
       "      <td>0.462</td>\n",
       "      <td>0.621</td>\n",
       "      <td>0.187</td>\n",
       "      <td>0.544</td>\n",
       "    </tr>\n",
       "    <tr>\n",
       "      <th>143</th>\n",
       "      <td>Zimbabwe</td>\n",
       "      <td>2.995</td>\n",
       "      <td>0.947</td>\n",
       "      <td>0.690</td>\n",
       "      <td>0.270</td>\n",
       "      <td>0.329</td>\n",
       "      <td>0.106</td>\n",
       "      <td>0.105</td>\n",
       "    </tr>\n",
       "    <tr>\n",
       "      <th>144</th>\n",
       "      <td>Lebanon</td>\n",
       "      <td>2.955</td>\n",
       "      <td>1.392</td>\n",
       "      <td>0.498</td>\n",
       "      <td>0.631</td>\n",
       "      <td>0.103</td>\n",
       "      <td>0.082</td>\n",
       "      <td>0.034</td>\n",
       "    </tr>\n",
       "    <tr>\n",
       "      <th>145</th>\n",
       "      <td>Afghanistan</td>\n",
       "      <td>2.404</td>\n",
       "      <td>0.758</td>\n",
       "      <td>0.000</td>\n",
       "      <td>0.289</td>\n",
       "      <td>0.000</td>\n",
       "      <td>0.089</td>\n",
       "      <td>0.005</td>\n",
       "    </tr>\n",
       "  </tbody>\n",
       "</table>\n",
       "</div>"
      ],
      "text/plain": [
       "순위            국가   행복지수  경제성(GDP)   인간관계  건강 기대 수명     자유     기부  부패 인식 정도\n",
       "141     Botswana  3.471     1.503  0.815     0.280  0.571  0.012     0.102\n",
       "142       Rwanda  3.268     0.785  0.133     0.462  0.621  0.187     0.544\n",
       "143     Zimbabwe  2.995     0.947  0.690     0.270  0.329  0.106     0.105\n",
       "144      Lebanon  2.955     1.392  0.498     0.631  0.103  0.082     0.034\n",
       "145  Afghanistan  2.404     0.758  0.000     0.289  0.000  0.089     0.005"
      ]
     },
     "execution_count": 168,
     "metadata": {},
     "output_type": "execute_result"
    }
   ],
   "source": [
    "low = target_data.tail()\n",
    "low.columns.names = [\"순위\"]\n",
    "low"
   ]
  },
  {
   "cell_type": "markdown",
   "id": "1724d99c",
   "metadata": {},
   "source": [
    "### 2.5.3. 행복한 국가들과 불행한 국가들 비교 분석"
   ]
  },
  {
   "cell_type": "code",
   "execution_count": 169,
   "id": "65193caa",
   "metadata": {},
   "outputs": [
    {
     "data": {
      "image/png": "[encoded data removed]",
      "text/plain": [
       "<Figure size 800x400 with 1 Axes>"
      ]
     },
     "metadata": {},
     "output_type": "display_data"
    }
   ],
   "source": [
    "# 가장 행복한 국가 top5 각 행복결정요인별 평균 구하기\n",
    "high_mean = high.mean(numeric_only=True)\n",
    "high_list = list(high_mean)\n",
    "\n",
    "# 가장 불행한 국가 top5 각 행복결정요인별 평균 구하기\n",
    "low_mean = low.mean(numeric_only=True)\n",
    "low_list = list(low_mean)\n",
    "\n",
    "# 가장 불행한 국가들 평균낸 리스트를 모두 음수로 변환(왼쪽으로 정렬하기 위해)\n",
    "negative_low_list = []\n",
    "for data in low_list:\n",
    "    negative_low_list.append(-data)\n",
    "\n",
    "# 각 행복결정요인별 비교 막대그래프 생성\n",
    "happiness = [\"행복지수\", \"경제성(GDP)\", \"인간관계\", \"건강 기대 수명\", \"자유\", \"기부\", \"부패 인식 정도\"]\n",
    "plt.style.use('ggplot')\n",
    "plt.figure(figsize=(8,4), dpi=100)\n",
    "plt.rc('font', family='Malgun Gothic')\n",
    "plt.rcParams['axes.unicode_minus'] = False\n",
    "plt.title(\"각 행복결정요인별 비교\")\n",
    "plt.barh(happiness[1:], high_list[1:], label='가장 행복한 국가들 평균')\n",
    "plt.barh(happiness[1:], negative_low_list[1:], label='가장 불행한 국가들 평균')\n",
    "plt.xlim(-2.5, 2.5)\n",
    "plt.ylabel('행복결정요인')\n",
    "plt.legend()\n",
    "plt.show()"
   ]
  },
  {
   "cell_type": "code",
   "execution_count": 170,
   "id": "0d279709",
   "metadata": {},
   "outputs": [
    {
     "data": {
      "image/png": "[encoded data removed]",
      "text/plain": [
       "<Figure size 432x288 with 1 Axes>"
      ]
     },
     "metadata": {},
     "output_type": "display_data"
    }
   ],
   "source": [
    "# 가장 행복한 국가들 평균 - 가장 불행한 국가들 평균\n",
    "compare_data = []\n",
    "\n",
    "for i in range(len(high_list)):\n",
    "    compare_data.append(high_list[i] - low_list[i])\n",
    "\n",
    "# 파이 차트(원그래프) 생성\n",
    "plt.pie(compare_data[1:], labels=happiness[1:], autopct='%.1f%%', startangle=180, radius=2)\n",
    "plt.title(\"가장 행복한 국가들과 가장 불행한 국가들의 행복결정요인별 수치 차이\", pad=120)\n",
    "plt.legend(loc=(1.5, 0.5))\n",
    "plt.show()"
   ]
  },
  {
   "cell_type": "markdown",
   "id": "2ca48e9a",
   "metadata": {},
   "source": [
    "## 2.6. 행복지수가 가장 많이 성장, 하락한 국가 분석"
   ]
  },
  {
   "cell_type": "markdown",
   "id": "e0e5f526",
   "metadata": {},
   "source": [
    "### 2.6.1. 2015년과 2022년(현재)을 비교했을 때 행복지수가 가장 많이 성장, 하락한 나라 찾기"
   ]
  },
  {
   "cell_type": "code",
   "execution_count": 171,
   "id": "030b17ee",
   "metadata": {},
   "outputs": [],
   "source": [
    "# 2015년에 존재한 국가들 데이터\n",
    "data_2015 = pd.read_csv(\"./data_dir/data2015.csv\", encoding='cp949')\n",
    "data_2015=data_2015.dropna(axis=0)    # 결측값이 있는 행 지우기 (NaN)\n",
    "data_2015.index = data_2015.index + 1    # 인덱스를 1부터(1위) 시작\n",
    "\n",
    "# 2022년에 존재하는 국가들 데이터\n",
    "data_2022 = pd.read_csv(\"./data_dir/data2022.csv\", encoding='cp949')\n",
    "data_2022=data_2022.dropna(axis=0)    # 결측값이 있는 행 지우기 (NaN)\n",
    "data_2022.index = data_2022.index + 1    # 인덱스를 1부터(1위) 시작"
   ]
  },
  {
   "cell_type": "code",
   "execution_count": 172,
   "id": "1ff0ac6a",
   "metadata": {},
   "outputs": [
    {
     "data": {
      "text/plain": [
       "['Finland',\n",
       " 'Denmark',\n",
       " 'Iceland',\n",
       " 'Switzerland',\n",
       " 'Netherlands',\n",
       " 'Luxembourg',\n",
       " 'Sweden',\n",
       " 'Norway',\n",
       " 'Israel',\n",
       " 'New Zealand',\n",
       " 'Austria',\n",
       " 'Australia',\n",
       " 'Ireland',\n",
       " 'Germany',\n",
       " 'Canada',\n",
       " 'United States',\n",
       " 'United Kingdom',\n",
       " 'Czechia',\n",
       " 'Belgium',\n",
       " 'Bahrain',\n",
       " 'Slovenia',\n",
       " 'Costa Rica',\n",
       " 'United Arab Emirates',\n",
       " 'Saudi Arabia',\n",
       " 'Taiwan Province of China',\n",
       " 'Singapore',\n",
       " 'Romania',\n",
       " 'Spain',\n",
       " 'Uruguay',\n",
       " 'Italy',\n",
       " 'Kosovo',\n",
       " 'Malta',\n",
       " 'Lithuania',\n",
       " 'Slovakia',\n",
       " 'Estonia',\n",
       " 'Panama',\n",
       " 'Brazil',\n",
       " 'Guatemala',\n",
       " 'Kazakhstan',\n",
       " 'Cyprus',\n",
       " 'Latvia',\n",
       " 'Serbia',\n",
       " 'Chile',\n",
       " 'Nicaragua',\n",
       " 'Mexico',\n",
       " 'Croatia',\n",
       " 'Poland',\n",
       " 'El Salvador',\n",
       " 'Kuwait',\n",
       " 'Hungary',\n",
       " 'Mauritius',\n",
       " 'Uzbekistan',\n",
       " 'Japan',\n",
       " 'Honduras',\n",
       " 'Portugal',\n",
       " 'Argentina',\n",
       " 'Greece',\n",
       " 'South Korea',\n",
       " 'Philippines',\n",
       " 'Thailand',\n",
       " 'Moldova',\n",
       " 'Jamaica',\n",
       " 'Kyrgyzstan',\n",
       " 'Belarus',\n",
       " 'Colombia',\n",
       " 'Bosnia and Herzegovina',\n",
       " 'Mongolia',\n",
       " 'Dominican Republic',\n",
       " 'Malaysia',\n",
       " 'Bolivia',\n",
       " 'China',\n",
       " 'Paraguay',\n",
       " 'Peru',\n",
       " 'Montenegro',\n",
       " 'Ecuador',\n",
       " 'Vietnam',\n",
       " 'Turkmenistan',\n",
       " 'North Cyprus',\n",
       " 'Russia',\n",
       " 'Hong Kong SAR of China',\n",
       " 'Armenia',\n",
       " 'Tajikistan',\n",
       " 'Nepal',\n",
       " 'Bulgaria',\n",
       " 'Libya',\n",
       " 'Indonesia',\n",
       " 'Ivory Coast',\n",
       " 'North Macedonia',\n",
       " 'Albania',\n",
       " 'South Africa',\n",
       " 'Azerbaijan',\n",
       " 'Gambia',\n",
       " 'Bangladesh',\n",
       " 'Laos',\n",
       " 'Algeria',\n",
       " 'Liberia',\n",
       " 'Ukraine',\n",
       " 'Congo',\n",
       " 'Morocco',\n",
       " 'Mozambique',\n",
       " 'Cameroon',\n",
       " 'Senegal',\n",
       " 'Niger',\n",
       " 'Georgia',\n",
       " 'Gabon',\n",
       " 'Iraq',\n",
       " 'Venezuela',\n",
       " 'Guinea',\n",
       " 'Iran',\n",
       " 'Ghana',\n",
       " 'Turkey',\n",
       " 'Burkina Faso',\n",
       " 'Cambodia',\n",
       " 'Benin',\n",
       " 'Comoros',\n",
       " 'Uganda',\n",
       " 'Nigeria',\n",
       " 'Kenya',\n",
       " 'Tunisia',\n",
       " 'Pakistan',\n",
       " 'Palestinian Territories',\n",
       " 'Mali',\n",
       " 'Namibia',\n",
       " 'Eswatini Kingdom of',\n",
       " 'Myanmar',\n",
       " 'Sri Lanka',\n",
       " 'Madagascar',\n",
       " 'Egypt',\n",
       " 'Chad',\n",
       " 'Ethiopia',\n",
       " 'Yemen',\n",
       " 'Mauritania',\n",
       " 'Jordan',\n",
       " 'Togo',\n",
       " 'India',\n",
       " 'Zambia',\n",
       " 'Malawi',\n",
       " 'Tanzania',\n",
       " 'Sierra Leone',\n",
       " 'Lesotho',\n",
       " 'Botswana',\n",
       " 'Rwanda',\n",
       " 'Zimbabwe',\n",
       " 'Lebanon',\n",
       " 'Afghanistan']"
      ]
     },
     "execution_count": 172,
     "metadata": {},
     "output_type": "execute_result"
    }
   ],
   "source": [
    "# 2022년에 존재하는 국가들 출력\n",
    "list(data_2022['국가'])"
   ]
  },
  {
   "cell_type": "code",
   "execution_count": 173,
   "id": "5aed43dd",
   "metadata": {
    "scrolled": true
   },
   "outputs": [
    {
     "name": "stdout",
     "output_type": "stream",
     "text": [
      "['Finland', 'Denmark', 'Iceland', 'Switzerland', 'Netherlands', 'Luxembourg', 'Sweden', 'Norway', 'Israel', 'New Zealand', 'Austria', 'Australia', 'Ireland', 'Germany', 'Canada', 'United States', 'United Kingdom', 'Belgium', 'Bahrain', 'Slovenia', 'Costa Rica', 'United Arab Emirates', 'Saudi Arabia', 'Singapore', 'Romania', 'Spain', 'Uruguay', 'Italy', 'Kosovo', 'Malta', 'Lithuania', 'Slovakia', 'Estonia', 'Panama', 'Brazil', 'Guatemala', 'Kazakhstan', 'Cyprus', 'Latvia', 'Serbia', 'Chile', 'Nicaragua', 'Mexico', 'Croatia', 'Poland', 'El Salvador', 'Kuwait', 'Hungary', 'Mauritius', 'Uzbekistan', 'Japan', 'Honduras', 'Portugal', 'Argentina', 'Greece', 'South Korea', 'Philippines', 'Thailand', 'Moldova', 'Jamaica', 'Kyrgyzstan', 'Belarus', 'Colombia', 'Bosnia and Herzegovina', 'Mongolia', 'Dominican Republic', 'Malaysia', 'Bolivia', 'China', 'Paraguay', 'Peru', 'Montenegro', 'Ecuador', 'Vietnam', 'Turkmenistan', 'North Cyprus', 'Russia', 'Armenia', 'Tajikistan', 'Nepal', 'Bulgaria', 'Libya', 'Indonesia', 'Ivory Coast', 'Albania', 'South Africa', 'Azerbaijan', 'Bangladesh', 'Laos', 'Algeria', 'Liberia', 'Ukraine', 'Morocco', 'Mozambique', 'Cameroon', 'Senegal', 'Niger', 'Georgia', 'Gabon', 'Iraq', 'Venezuela', 'Guinea', 'Iran', 'Ghana', 'Turkey', 'Burkina Faso', 'Cambodia', 'Benin', 'Comoros', 'Uganda', 'Nigeria', 'Kenya', 'Tunisia', 'Pakistan', 'Palestinian Territories', 'Mali', 'Myanmar', 'Sri Lanka', 'Madagascar', 'Egypt', 'Chad', 'Ethiopia', 'Yemen', 'Mauritania', 'Jordan', 'Togo', 'India', 'Zambia', 'Malawi', 'Tanzania', 'Sierra Leone', 'Lesotho', 'Botswana', 'Rwanda', 'Zimbabwe', 'Lebanon', 'Afghanistan']\n"
     ]
    }
   ],
   "source": [
    "# 2015년 데이터와 2022년 데이터 모두 존재하는 국가\n",
    "country_2022 = list(data_2022['국가'])\n",
    "country_2015 = list(data_2015['국가'])\n",
    "common_country = []\n",
    "for i in country_2022:\n",
    "    if i in country_2015:\n",
    "        common_country.append(i)\n",
    "\n",
    "print(common_country)"
   ]
  },
  {
   "cell_type": "code",
   "execution_count": 174,
   "id": "df882f9c",
   "metadata": {},
   "outputs": [
    {
     "data": {
      "text/html": [
       "<div>\n",
       "<style scoped>\n",
       "    .dataframe tbody tr th:only-of-type {\n",
       "        vertical-align: middle;\n",
       "    }\n",
       "\n",
       "    .dataframe tbody tr th {\n",
       "        vertical-align: top;\n",
       "    }\n",
       "\n",
       "    .dataframe thead th {\n",
       "        text-align: right;\n",
       "    }\n",
       "</style>\n",
       "<table border=\"1\" class=\"dataframe\">\n",
       "  <thead>\n",
       "    <tr style=\"text-align: right;\">\n",
       "      <th></th>\n",
       "      <th>행복지수(%)</th>\n",
       "      <th>경제성(GDP)(%)</th>\n",
       "      <th>인간관계(%)</th>\n",
       "      <th>건강 기대 수명(%)</th>\n",
       "      <th>자유(%)</th>\n",
       "      <th>기부(%)</th>\n",
       "      <th>부패 인식 정도(%)</th>\n",
       "    </tr>\n",
       "    <tr>\n",
       "      <th>국가</th>\n",
       "      <th></th>\n",
       "      <th></th>\n",
       "      <th></th>\n",
       "      <th></th>\n",
       "      <th></th>\n",
       "      <th></th>\n",
       "      <th></th>\n",
       "    </tr>\n",
       "  </thead>\n",
       "  <tbody>\n",
       "    <tr>\n",
       "      <th>Togo</th>\n",
       "      <td>44.839732</td>\n",
       "      <td>269.465210</td>\n",
       "      <td>130.082172</td>\n",
       "      <td>26.568927</td>\n",
       "      <td>-19.896853</td>\n",
       "      <td>4.310293</td>\n",
       "      <td>23.008107</td>\n",
       "    </tr>\n",
       "    <tr>\n",
       "      <th>Ivory Coast</th>\n",
       "      <td>43.228454</td>\n",
       "      <td>135.096918</td>\n",
       "      <td>-42.683006</td>\n",
       "      <td>112.051366</td>\n",
       "      <td>-3.768190</td>\n",
       "      <td>-26.109596</td>\n",
       "      <td>-30.811293</td>\n",
       "    </tr>\n",
       "    <tr>\n",
       "      <th>Benin</th>\n",
       "      <td>38.413174</td>\n",
       "      <td>225.135182</td>\n",
       "      <td>-81.913751</td>\n",
       "      <td>4.982764</td>\n",
       "      <td>-1.135191</td>\n",
       "      <td>-30.449069</td>\n",
       "      <td>187.141074</td>\n",
       "    </tr>\n",
       "    <tr>\n",
       "      <th>Guinea</th>\n",
       "      <td>33.780088</td>\n",
       "      <td>386.880634</td>\n",
       "      <td>21.785906</td>\n",
       "      <td>14.540381</td>\n",
       "      <td>-11.464546</td>\n",
       "      <td>-25.323656</td>\n",
       "      <td>-4.440234</td>\n",
       "    </tr>\n",
       "    <tr>\n",
       "      <th>Burkina Faso</th>\n",
       "      <td>30.192361</td>\n",
       "      <td>201.797614</td>\n",
       "      <td>-33.676105</td>\n",
       "      <td>17.972350</td>\n",
       "      <td>-3.273998</td>\n",
       "      <td>-14.470962</td>\n",
       "      <td>-1.807980</td>\n",
       "    </tr>\n",
       "    <tr>\n",
       "      <th>...</th>\n",
       "      <td>...</td>\n",
       "      <td>...</td>\n",
       "      <td>...</td>\n",
       "      <td>...</td>\n",
       "      <td>...</td>\n",
       "      <td>...</td>\n",
       "      <td>...</td>\n",
       "    </tr>\n",
       "    <tr>\n",
       "      <th>Venezuela</th>\n",
       "      <td>-27.679883</td>\n",
       "      <td>-100.000000</td>\n",
       "      <td>-22.927482</td>\n",
       "      <td>-19.780159</td>\n",
       "      <td>-34.044933</td>\n",
       "      <td>285.208012</td>\n",
       "      <td>-25.919234</td>\n",
       "    </tr>\n",
       "    <tr>\n",
       "      <th>Lesotho</th>\n",
       "      <td>-28.297264</td>\n",
       "      <td>123.465175</td>\n",
       "      <td>-18.542213</td>\n",
       "      <td>-100.000000</td>\n",
       "      <td>31.897881</td>\n",
       "      <td>-53.624603</td>\n",
       "      <td>-85.604607</td>\n",
       "    </tr>\n",
       "    <tr>\n",
       "      <th>Afghanistan</th>\n",
       "      <td>-32.755245</td>\n",
       "      <td>137.008317</td>\n",
       "      <td>-100.000000</td>\n",
       "      <td>-4.730509</td>\n",
       "      <td>-100.000000</td>\n",
       "      <td>-75.623117</td>\n",
       "      <td>-94.855438</td>\n",
       "    </tr>\n",
       "    <tr>\n",
       "      <th>Zimbabwe</th>\n",
       "      <td>-35.032538</td>\n",
       "      <td>249.446494</td>\n",
       "      <td>-33.188737</td>\n",
       "      <td>-19.342793</td>\n",
       "      <td>27.218592</td>\n",
       "      <td>-44.172328</td>\n",
       "      <td>29.966580</td>\n",
       "    </tr>\n",
       "    <tr>\n",
       "      <th>Lebanon</th>\n",
       "      <td>-38.933664</td>\n",
       "      <td>35.720136</td>\n",
       "      <td>-37.750778</td>\n",
       "      <td>-24.833526</td>\n",
       "      <td>-69.630853</td>\n",
       "      <td>-62.478265</td>\n",
       "      <td>-25.796595</td>\n",
       "    </tr>\n",
       "  </tbody>\n",
       "</table>\n",
       "<p>137 rows × 7 columns</p>\n",
       "</div>"
      ],
      "text/plain": [
       "                행복지수(%)  경제성(GDP)(%)     인간관계(%)  건강 기대 수명(%)       자유(%)  \\\n",
       "국가                                                                          \n",
       "Togo          44.839732   269.465210  130.082172    26.568927  -19.896853   \n",
       "Ivory Coast   43.228454   135.096918  -42.683006   112.051366   -3.768190   \n",
       "Benin         38.413174   225.135182  -81.913751     4.982764   -1.135191   \n",
       "Guinea        33.780088   386.880634   21.785906    14.540381  -11.464546   \n",
       "Burkina Faso  30.192361   201.797614  -33.676105    17.972350   -3.273998   \n",
       "...                 ...          ...         ...          ...         ...   \n",
       "Venezuela    -27.679883  -100.000000  -22.927482   -19.780159  -34.044933   \n",
       "Lesotho      -28.297264   123.465175  -18.542213  -100.000000   31.897881   \n",
       "Afghanistan  -32.755245   137.008317 -100.000000    -4.730509 -100.000000   \n",
       "Zimbabwe     -35.032538   249.446494  -33.188737   -19.342793   27.218592   \n",
       "Lebanon      -38.933664    35.720136  -37.750778   -24.833526  -69.630853   \n",
       "\n",
       "                   기부(%)  부패 인식 정도(%)  \n",
       "국가                                     \n",
       "Togo            4.310293    23.008107  \n",
       "Ivory Coast   -26.109596   -30.811293  \n",
       "Benin         -30.449069   187.141074  \n",
       "Guinea        -25.323656    -4.440234  \n",
       "Burkina Faso  -14.470962    -1.807980  \n",
       "...                  ...          ...  \n",
       "Venezuela     285.208012   -25.919234  \n",
       "Lesotho       -53.624603   -85.604607  \n",
       "Afghanistan   -75.623117   -94.855438  \n",
       "Zimbabwe      -44.172328    29.966580  \n",
       "Lebanon       -62.478265   -25.796595  \n",
       "\n",
       "[137 rows x 7 columns]"
      ]
     },
     "execution_count": 174,
     "metadata": {},
     "output_type": "execute_result"
    }
   ],
   "source": [
    "# 2022년 데이터값 - 2015년 데이터값(얼마나 성장했는지) 결과보기\n",
    "ordered_2015 = pd.DataFrame(columns=['국가', '행복지수', '경제성(GDP)', '인간관계','건강 기대 수명', '자유', '기부', '부패 인식 정도'])\n",
    "ordered_2022 = pd.DataFrame(columns=['국가', '행복지수', '경제성(GDP)', '인간관계','건강 기대 수명', '자유', '기부', '부패 인식 정도'])\n",
    "\n",
    "for i in common_country:\n",
    "    ordered_2015 = pd.concat([ordered_2015, data_2015.loc[data_2015['국가'] == i]], ignore_index = True)\n",
    "    ordered_2022 = pd.concat([ordered_2022, data_2022.loc[data_2022['국가'] == i]], ignore_index = True)\n",
    "\n",
    "compare_2015_2022 = ordered_2022.iloc[:,1:] - ordered_2015.iloc[:,1:]    # 2022년에서 2015년의 데이터를 뺀 값\n",
    "\n",
    "compare_2015_2022_rate = (compare_2015_2022.astype(float) / ordered_2015.iloc[:,1:].astype(float)) * 100\n",
    "compare_2015_2022_rate.index = ordered_2022['국가']\n",
    "\n",
    "compare_2015_2022_rate = compare_2015_2022_rate.sort_values('행복지수', ascending=False)\n",
    "compare_2015_2022_rate.columns = ['행복지수(%)', '경제성(GDP)(%)', '인간관계(%)','건강 기대 수명(%)', '자유(%)', '기부(%)', '부패 인식 정도(%)']\n",
    "\n",
    "compare_2015_2022_rate"
   ]
  },
  {
   "cell_type": "code",
   "execution_count": 175,
   "id": "6593eab7",
   "metadata": {},
   "outputs": [
    {
     "data": {
      "text/html": [
       "<div>\n",
       "<style scoped>\n",
       "    .dataframe tbody tr th:only-of-type {\n",
       "        vertical-align: middle;\n",
       "    }\n",
       "\n",
       "    .dataframe tbody tr th {\n",
       "        vertical-align: top;\n",
       "    }\n",
       "\n",
       "    .dataframe thead th {\n",
       "        text-align: right;\n",
       "    }\n",
       "</style>\n",
       "<table border=\"1\" class=\"dataframe\">\n",
       "  <thead>\n",
       "    <tr style=\"text-align: right;\">\n",
       "      <th></th>\n",
       "      <th>행복지수(%)</th>\n",
       "      <th>경제성(GDP)(%)</th>\n",
       "      <th>인간관계(%)</th>\n",
       "      <th>건강 기대 수명(%)</th>\n",
       "      <th>자유(%)</th>\n",
       "      <th>기부(%)</th>\n",
       "      <th>부패 인식 정도(%)</th>\n",
       "    </tr>\n",
       "    <tr>\n",
       "      <th>국가</th>\n",
       "      <th></th>\n",
       "      <th></th>\n",
       "      <th></th>\n",
       "      <th></th>\n",
       "      <th></th>\n",
       "      <th></th>\n",
       "      <th></th>\n",
       "    </tr>\n",
       "  </thead>\n",
       "  <tbody>\n",
       "    <tr>\n",
       "      <th>Togo</th>\n",
       "      <td>44.839732</td>\n",
       "      <td>269.46521</td>\n",
       "      <td>130.082172</td>\n",
       "      <td>26.568927</td>\n",
       "      <td>-19.896853</td>\n",
       "      <td>4.310293</td>\n",
       "      <td>23.008107</td>\n",
       "    </tr>\n",
       "  </tbody>\n",
       "</table>\n",
       "</div>"
      ],
      "text/plain": [
       "        행복지수(%)  경제성(GDP)(%)     인간관계(%)  건강 기대 수명(%)      자유(%)     기부(%)  \\\n",
       "국가                                                                           \n",
       "Togo  44.839732    269.46521  130.082172    26.568927 -19.896853  4.310293   \n",
       "\n",
       "      부패 인식 정도(%)  \n",
       "국가                 \n",
       "Togo    23.008107  "
      ]
     },
     "execution_count": 175,
     "metadata": {},
     "output_type": "execute_result"
    }
   ],
   "source": [
    "# 가장 많이 행복지수가 성장한 국가\n",
    "compare_2015_2022_rate.head(1)"
   ]
  },
  {
   "cell_type": "code",
   "execution_count": 176,
   "id": "8007843f",
   "metadata": {},
   "outputs": [
    {
     "data": {
      "text/html": [
       "<div>\n",
       "<style scoped>\n",
       "    .dataframe tbody tr th:only-of-type {\n",
       "        vertical-align: middle;\n",
       "    }\n",
       "\n",
       "    .dataframe tbody tr th {\n",
       "        vertical-align: top;\n",
       "    }\n",
       "\n",
       "    .dataframe thead th {\n",
       "        text-align: right;\n",
       "    }\n",
       "</style>\n",
       "<table border=\"1\" class=\"dataframe\">\n",
       "  <thead>\n",
       "    <tr style=\"text-align: right;\">\n",
       "      <th></th>\n",
       "      <th>행복지수(%)</th>\n",
       "      <th>경제성(GDP)(%)</th>\n",
       "      <th>인간관계(%)</th>\n",
       "      <th>건강 기대 수명(%)</th>\n",
       "      <th>자유(%)</th>\n",
       "      <th>기부(%)</th>\n",
       "      <th>부패 인식 정도(%)</th>\n",
       "    </tr>\n",
       "    <tr>\n",
       "      <th>국가</th>\n",
       "      <th></th>\n",
       "      <th></th>\n",
       "      <th></th>\n",
       "      <th></th>\n",
       "      <th></th>\n",
       "      <th></th>\n",
       "      <th></th>\n",
       "    </tr>\n",
       "  </thead>\n",
       "  <tbody>\n",
       "    <tr>\n",
       "      <th>Lebanon</th>\n",
       "      <td>-38.933664</td>\n",
       "      <td>35.720136</td>\n",
       "      <td>-37.750778</td>\n",
       "      <td>-24.833526</td>\n",
       "      <td>-69.630853</td>\n",
       "      <td>-62.478265</td>\n",
       "      <td>-25.796595</td>\n",
       "    </tr>\n",
       "  </tbody>\n",
       "</table>\n",
       "</div>"
      ],
      "text/plain": [
       "           행복지수(%)  경제성(GDP)(%)    인간관계(%)  건강 기대 수명(%)      자유(%)      기부(%)  \\\n",
       "국가                                                                              \n",
       "Lebanon -38.933664    35.720136 -37.750778   -24.833526 -69.630853 -62.478265   \n",
       "\n",
       "         부패 인식 정도(%)  \n",
       "국가                    \n",
       "Lebanon   -25.796595  "
      ]
     },
     "execution_count": 176,
     "metadata": {},
     "output_type": "execute_result"
    }
   ],
   "source": [
    "# 가장 많이 행복지수가 하락한 국가\n",
    "compare_2015_2022_rate.tail(1)"
   ]
  },
  {
   "cell_type": "markdown",
   "id": "5466788b",
   "metadata": {},
   "source": [
    "### 2.6.2. 행복지수가 가장 많이 성장한 5개 국가 행복결정요인 분석"
   ]
  },
  {
   "cell_type": "code",
   "execution_count": 177,
   "id": "1d2222f1",
   "metadata": {},
   "outputs": [
    {
     "data": {
      "text/html": [
       "<div>\n",
       "<style scoped>\n",
       "    .dataframe tbody tr th:only-of-type {\n",
       "        vertical-align: middle;\n",
       "    }\n",
       "\n",
       "    .dataframe tbody tr th {\n",
       "        vertical-align: top;\n",
       "    }\n",
       "\n",
       "    .dataframe thead th {\n",
       "        text-align: right;\n",
       "    }\n",
       "</style>\n",
       "<table border=\"1\" class=\"dataframe\">\n",
       "  <thead>\n",
       "    <tr style=\"text-align: right;\">\n",
       "      <th></th>\n",
       "      <th>행복지수(%)</th>\n",
       "      <th>경제성(GDP)(%)</th>\n",
       "      <th>인간관계(%)</th>\n",
       "      <th>건강 기대 수명(%)</th>\n",
       "      <th>자유(%)</th>\n",
       "      <th>기부(%)</th>\n",
       "      <th>부패 인식 정도(%)</th>\n",
       "    </tr>\n",
       "    <tr>\n",
       "      <th>국가</th>\n",
       "      <th></th>\n",
       "      <th></th>\n",
       "      <th></th>\n",
       "      <th></th>\n",
       "      <th></th>\n",
       "      <th></th>\n",
       "      <th></th>\n",
       "    </tr>\n",
       "  </thead>\n",
       "  <tbody>\n",
       "    <tr>\n",
       "      <th>Togo</th>\n",
       "      <td>44.839732</td>\n",
       "      <td>269.465210</td>\n",
       "      <td>130.082172</td>\n",
       "      <td>26.568927</td>\n",
       "      <td>-19.896853</td>\n",
       "      <td>4.310293</td>\n",
       "      <td>23.008107</td>\n",
       "    </tr>\n",
       "    <tr>\n",
       "      <th>Ivory Coast</th>\n",
       "      <td>43.228454</td>\n",
       "      <td>135.096918</td>\n",
       "      <td>-42.683006</td>\n",
       "      <td>112.051366</td>\n",
       "      <td>-3.768190</td>\n",
       "      <td>-26.109596</td>\n",
       "      <td>-30.811293</td>\n",
       "    </tr>\n",
       "    <tr>\n",
       "      <th>Benin</th>\n",
       "      <td>38.413174</td>\n",
       "      <td>225.135182</td>\n",
       "      <td>-81.913751</td>\n",
       "      <td>4.982764</td>\n",
       "      <td>-1.135191</td>\n",
       "      <td>-30.449069</td>\n",
       "      <td>187.141074</td>\n",
       "    </tr>\n",
       "    <tr>\n",
       "      <th>Guinea</th>\n",
       "      <td>33.780088</td>\n",
       "      <td>386.880634</td>\n",
       "      <td>21.785906</td>\n",
       "      <td>14.540381</td>\n",
       "      <td>-11.464546</td>\n",
       "      <td>-25.323656</td>\n",
       "      <td>-4.440234</td>\n",
       "    </tr>\n",
       "    <tr>\n",
       "      <th>Burkina Faso</th>\n",
       "      <td>30.192361</td>\n",
       "      <td>201.797614</td>\n",
       "      <td>-33.676105</td>\n",
       "      <td>17.972350</td>\n",
       "      <td>-3.273998</td>\n",
       "      <td>-14.470962</td>\n",
       "      <td>-1.807980</td>\n",
       "    </tr>\n",
       "  </tbody>\n",
       "</table>\n",
       "</div>"
      ],
      "text/plain": [
       "                행복지수(%)  경제성(GDP)(%)     인간관계(%)  건강 기대 수명(%)      자유(%)  \\\n",
       "국가                                                                         \n",
       "Togo          44.839732   269.465210  130.082172    26.568927 -19.896853   \n",
       "Ivory Coast   43.228454   135.096918  -42.683006   112.051366  -3.768190   \n",
       "Benin         38.413174   225.135182  -81.913751     4.982764  -1.135191   \n",
       "Guinea        33.780088   386.880634   21.785906    14.540381 -11.464546   \n",
       "Burkina Faso  30.192361   201.797614  -33.676105    17.972350  -3.273998   \n",
       "\n",
       "                  기부(%)  부패 인식 정도(%)  \n",
       "국가                                    \n",
       "Togo           4.310293    23.008107  \n",
       "Ivory Coast  -26.109596   -30.811293  \n",
       "Benin        -30.449069   187.141074  \n",
       "Guinea       -25.323656    -4.440234  \n",
       "Burkina Faso -14.470962    -1.807980  "
      ]
     },
     "execution_count": 177,
     "metadata": {},
     "output_type": "execute_result"
    }
   ],
   "source": [
    "compare_top5 = compare_2015_2022_rate.head()\n",
    "compare_top5\n",
    "# 행복지수가 가장 많이 성장한 5개 국가를 보아 경제성(GDP)가 가장 많이 성장했다\n",
    "# Ivory Coast는 경제성(GDP)와 건강 기대 수명이 비슷한 비율로 올랐다."
   ]
  },
  {
   "cell_type": "code",
   "execution_count": 178,
   "id": "7180b85f",
   "metadata": {},
   "outputs": [
    {
     "data": {
      "text/html": [
       "<div>\n",
       "<style scoped>\n",
       "    .dataframe tbody tr th:only-of-type {\n",
       "        vertical-align: middle;\n",
       "    }\n",
       "\n",
       "    .dataframe tbody tr th {\n",
       "        vertical-align: top;\n",
       "    }\n",
       "\n",
       "    .dataframe thead th {\n",
       "        text-align: right;\n",
       "    }\n",
       "</style>\n",
       "<table border=\"1\" class=\"dataframe\">\n",
       "  <thead>\n",
       "    <tr style=\"text-align: right;\">\n",
       "      <th></th>\n",
       "      <th>행복지수가 가장 많이 성장한 5개 국가의 행복결정요인별 평균</th>\n",
       "    </tr>\n",
       "  </thead>\n",
       "  <tbody>\n",
       "    <tr>\n",
       "      <th>행복지수(%)</th>\n",
       "      <td>38.090762</td>\n",
       "    </tr>\n",
       "    <tr>\n",
       "      <th>경제성(GDP)(%)</th>\n",
       "      <td>243.675112</td>\n",
       "    </tr>\n",
       "    <tr>\n",
       "      <th>인간관계(%)</th>\n",
       "      <td>-1.280957</td>\n",
       "    </tr>\n",
       "    <tr>\n",
       "      <th>건강 기대 수명(%)</th>\n",
       "      <td>35.223158</td>\n",
       "    </tr>\n",
       "    <tr>\n",
       "      <th>자유(%)</th>\n",
       "      <td>-7.907756</td>\n",
       "    </tr>\n",
       "    <tr>\n",
       "      <th>기부(%)</th>\n",
       "      <td>-18.408598</td>\n",
       "    </tr>\n",
       "    <tr>\n",
       "      <th>부패 인식 정도(%)</th>\n",
       "      <td>34.617935</td>\n",
       "    </tr>\n",
       "  </tbody>\n",
       "</table>\n",
       "</div>"
      ],
      "text/plain": [
       "             행복지수가 가장 많이 성장한 5개 국가의 행복결정요인별 평균\n",
       "행복지수(%)                              38.090762\n",
       "경제성(GDP)(%)                         243.675112\n",
       "인간관계(%)                              -1.280957\n",
       "건강 기대 수명(%)                          35.223158\n",
       "자유(%)                                -7.907756\n",
       "기부(%)                               -18.408598\n",
       "부패 인식 정도(%)                          34.617935"
      ]
     },
     "execution_count": 178,
     "metadata": {},
     "output_type": "execute_result"
    }
   ],
   "source": [
    "avg_compare_top5 = compare_top5.mean().to_frame(name='행복지수가 가장 많이 성장한 5개 국가의 행복결정요인별 평균')\n",
    "avg_compare_top5\n",
    "\n",
    "# 평균만 놓고보니 확실히 경제성(GDP)가 가장 많은 비중을 차지한다."
   ]
  },
  {
   "cell_type": "code",
   "execution_count": 179,
   "id": "3a6c4030",
   "metadata": {
    "scrolled": true
   },
   "outputs": [
    {
     "data": {
      "image/png": "[encoded data removed]",
      "text/plain": [
       "<Figure size 720x360 with 1 Axes>"
      ]
     },
     "metadata": {},
     "output_type": "display_data"
    }
   ],
   "source": [
    "# 행복지수가 가장 많이 성장한 5개 국가의 행복결정요인별 평균 시각화\n",
    "plt.figure(figsize=(10, 5))\n",
    "plt.title(avg_compare_top5.columns[0])\n",
    "\n",
    "plt.bar(list(avg_compare_top5.index), list(avg_compare_top5[avg_compare_top5.columns[0]]), width = bar_width, color=list(map(lambda x : red if x > 0 else blue, list(avg_compare_top5[avg_compare_top5.columns[0]]))))\n",
    "\n",
    "plt.show()"
   ]
  },
  {
   "cell_type": "markdown",
   "id": "cb3b5dbb",
   "metadata": {},
   "source": [
    "### 2.6.3. 행복지수가 가장 많이 하락한 5개 국가 행복결정요인 분석"
   ]
  },
  {
   "cell_type": "code",
   "execution_count": 180,
   "id": "2d69392c",
   "metadata": {
    "scrolled": true
   },
   "outputs": [
    {
     "data": {
      "text/html": [
       "<div>\n",
       "<style scoped>\n",
       "    .dataframe tbody tr th:only-of-type {\n",
       "        vertical-align: middle;\n",
       "    }\n",
       "\n",
       "    .dataframe tbody tr th {\n",
       "        vertical-align: top;\n",
       "    }\n",
       "\n",
       "    .dataframe thead th {\n",
       "        text-align: right;\n",
       "    }\n",
       "</style>\n",
       "<table border=\"1\" class=\"dataframe\">\n",
       "  <thead>\n",
       "    <tr style=\"text-align: right;\">\n",
       "      <th></th>\n",
       "      <th>행복지수(%)</th>\n",
       "      <th>경제성(GDP)(%)</th>\n",
       "      <th>인간관계(%)</th>\n",
       "      <th>건강 기대 수명(%)</th>\n",
       "      <th>자유(%)</th>\n",
       "      <th>기부(%)</th>\n",
       "      <th>부패 인식 정도(%)</th>\n",
       "    </tr>\n",
       "    <tr>\n",
       "      <th>국가</th>\n",
       "      <th></th>\n",
       "      <th></th>\n",
       "      <th></th>\n",
       "      <th></th>\n",
       "      <th></th>\n",
       "      <th></th>\n",
       "      <th></th>\n",
       "    </tr>\n",
       "  </thead>\n",
       "  <tbody>\n",
       "    <tr>\n",
       "      <th>Venezuela</th>\n",
       "      <td>-27.679883</td>\n",
       "      <td>-100.000000</td>\n",
       "      <td>-22.927482</td>\n",
       "      <td>-19.780159</td>\n",
       "      <td>-34.044933</td>\n",
       "      <td>285.208012</td>\n",
       "      <td>-25.919234</td>\n",
       "    </tr>\n",
       "    <tr>\n",
       "      <th>Lesotho</th>\n",
       "      <td>-28.297264</td>\n",
       "      <td>123.465175</td>\n",
       "      <td>-18.542213</td>\n",
       "      <td>-100.000000</td>\n",
       "      <td>31.897881</td>\n",
       "      <td>-53.624603</td>\n",
       "      <td>-85.604607</td>\n",
       "    </tr>\n",
       "    <tr>\n",
       "      <th>Afghanistan</th>\n",
       "      <td>-32.755245</td>\n",
       "      <td>137.008317</td>\n",
       "      <td>-100.000000</td>\n",
       "      <td>-4.730509</td>\n",
       "      <td>-100.000000</td>\n",
       "      <td>-75.623117</td>\n",
       "      <td>-94.855438</td>\n",
       "    </tr>\n",
       "    <tr>\n",
       "      <th>Zimbabwe</th>\n",
       "      <td>-35.032538</td>\n",
       "      <td>249.446494</td>\n",
       "      <td>-33.188737</td>\n",
       "      <td>-19.342793</td>\n",
       "      <td>27.218592</td>\n",
       "      <td>-44.172328</td>\n",
       "      <td>29.966580</td>\n",
       "    </tr>\n",
       "    <tr>\n",
       "      <th>Lebanon</th>\n",
       "      <td>-38.933664</td>\n",
       "      <td>35.720136</td>\n",
       "      <td>-37.750778</td>\n",
       "      <td>-24.833526</td>\n",
       "      <td>-69.630853</td>\n",
       "      <td>-62.478265</td>\n",
       "      <td>-25.796595</td>\n",
       "    </tr>\n",
       "  </tbody>\n",
       "</table>\n",
       "</div>"
      ],
      "text/plain": [
       "               행복지수(%)  경제성(GDP)(%)     인간관계(%)  건강 기대 수명(%)       자유(%)  \\\n",
       "국가                                                                         \n",
       "Venezuela   -27.679883  -100.000000  -22.927482   -19.780159  -34.044933   \n",
       "Lesotho     -28.297264   123.465175  -18.542213  -100.000000   31.897881   \n",
       "Afghanistan -32.755245   137.008317 -100.000000    -4.730509 -100.000000   \n",
       "Zimbabwe    -35.032538   249.446494  -33.188737   -19.342793   27.218592   \n",
       "Lebanon     -38.933664    35.720136  -37.750778   -24.833526  -69.630853   \n",
       "\n",
       "                  기부(%)  부패 인식 정도(%)  \n",
       "국가                                    \n",
       "Venezuela    285.208012   -25.919234  \n",
       "Lesotho      -53.624603   -85.604607  \n",
       "Afghanistan  -75.623117   -94.855438  \n",
       "Zimbabwe     -44.172328    29.966580  \n",
       "Lebanon      -62.478265   -25.796595  "
      ]
     },
     "execution_count": 180,
     "metadata": {},
     "output_type": "execute_result"
    }
   ],
   "source": [
    "compare_bottom5 = compare_2015_2022_rate.tail(5)\n",
    "compare_bottom5\n",
    "# 행복지수가 가장 많이 하락한 5개 국가를 보아 행복지수가 하락한 원인은 국가별로 다양했다."
   ]
  },
  {
   "cell_type": "code",
   "execution_count": 181,
   "id": "dcc20f39",
   "metadata": {},
   "outputs": [
    {
     "data": {
      "text/html": [
       "<div>\n",
       "<style scoped>\n",
       "    .dataframe tbody tr th:only-of-type {\n",
       "        vertical-align: middle;\n",
       "    }\n",
       "\n",
       "    .dataframe tbody tr th {\n",
       "        vertical-align: top;\n",
       "    }\n",
       "\n",
       "    .dataframe thead th {\n",
       "        text-align: right;\n",
       "    }\n",
       "</style>\n",
       "<table border=\"1\" class=\"dataframe\">\n",
       "  <thead>\n",
       "    <tr style=\"text-align: right;\">\n",
       "      <th></th>\n",
       "      <th>행복지수가 가장 많이 떨어진 5개 나라의 요소별 평균</th>\n",
       "    </tr>\n",
       "  </thead>\n",
       "  <tbody>\n",
       "    <tr>\n",
       "      <th>행복지수(%)</th>\n",
       "      <td>-32.539719</td>\n",
       "    </tr>\n",
       "    <tr>\n",
       "      <th>경제성(GDP)(%)</th>\n",
       "      <td>89.128024</td>\n",
       "    </tr>\n",
       "    <tr>\n",
       "      <th>인간관계(%)</th>\n",
       "      <td>-42.481842</td>\n",
       "    </tr>\n",
       "    <tr>\n",
       "      <th>건강 기대 수명(%)</th>\n",
       "      <td>-33.737397</td>\n",
       "    </tr>\n",
       "    <tr>\n",
       "      <th>자유(%)</th>\n",
       "      <td>-28.911863</td>\n",
       "    </tr>\n",
       "    <tr>\n",
       "      <th>기부(%)</th>\n",
       "      <td>9.861940</td>\n",
       "    </tr>\n",
       "    <tr>\n",
       "      <th>부패 인식 정도(%)</th>\n",
       "      <td>-40.441859</td>\n",
       "    </tr>\n",
       "  </tbody>\n",
       "</table>\n",
       "</div>"
      ],
      "text/plain": [
       "             행복지수가 가장 많이 떨어진 5개 나라의 요소별 평균\n",
       "행복지수(%)                         -32.539719\n",
       "경제성(GDP)(%)                      89.128024\n",
       "인간관계(%)                         -42.481842\n",
       "건강 기대 수명(%)                     -33.737397\n",
       "자유(%)                           -28.911863\n",
       "기부(%)                             9.861940\n",
       "부패 인식 정도(%)                     -40.441859"
      ]
     },
     "execution_count": 181,
     "metadata": {},
     "output_type": "execute_result"
    }
   ],
   "source": [
    "avg_compare_bottom5= compare_bottom5.mean().to_frame(name='행복지수가 가장 많이 떨어진 5개 나라의 요소별 평균')\n",
    "avg_compare_bottom5\n",
    "\n",
    "# 평균적으로는 인간관계가 가장 많이 하락했다."
   ]
  },
  {
   "cell_type": "code",
   "execution_count": 182,
   "id": "e856f851",
   "metadata": {
    "scrolled": true
   },
   "outputs": [
    {
     "data": {
      "image/png": "[encoded data removed]",
      "text/plain": [
       "<Figure size 720x360 with 1 Axes>"
      ]
     },
     "metadata": {},
     "output_type": "display_data"
    }
   ],
   "source": [
    "# 행복지수가 가장 많이 하락한 5개 국가의 행복결정요인별 평균 시각화\n",
    "plt.figure(figsize=(10, 5))\n",
    "plt.title(avg_compare_bottom5.columns[0])\n",
    "\n",
    "plt.bar(list(avg_compare_bottom5.index), list(avg_compare_bottom5[avg_compare_bottom5.columns[0]]), width = bar_width, color=list(map(lambda x : red if x > 0 else blue, list(avg_compare_bottom5[avg_compare_bottom5.columns[0]]))))\n",
    "\n",
    "plt.show()"
   ]
  },
  {
   "cell_type": "markdown",
   "id": "1f2fd19d",
   "metadata": {},
   "source": [
    "# 3. 결론"
   ]
  },
  {
   "cell_type": "markdown",
   "id": "cfc64abf",
   "metadata": {},
   "source": [
    "## 3.1. 히트맵을 통한 행복지수와 행복결정요인별 상관관계 시각화"
   ]
  },
  {
   "cell_type": "code",
   "execution_count": 183,
   "id": "cec6acdb",
   "metadata": {
    "scrolled": true
   },
   "outputs": [
    {
     "data": {
      "text/plain": [
       "<AxesSubplot:>"
      ]
     },
     "execution_count": 183,
     "metadata": {},
     "output_type": "execute_result"
    },
    {
     "data": {
      "image/png": "[encoded data removed]",
      "text/plain": [
       "<Figure size 576x576 with 2 Axes>"
      ]
     },
     "metadata": {},
     "output_type": "display_data"
    }
   ],
   "source": [
    "data_2015 = pd.read_csv(\"./data_dir/data2015.csv\", encoding='cp949')\n",
    "data_2016 = pd.read_csv(\"./data_dir/data2016.csv\", encoding='cp949')\n",
    "data_2017 = pd.read_csv(\"./data_dir/data2017.csv\", encoding='cp949')\n",
    "data_2018 = pd.read_csv(\"./data_dir/data2018.csv\", encoding='cp949')\n",
    "data_2019 = pd.read_csv(\"./data_dir/data2019.csv\", encoding='cp949')\n",
    "data_2020 = pd.read_csv(\"./data_dir/data2020.csv\", encoding='cp949')\n",
    "data_2021 = pd.read_csv(\"./data_dir/data2021.csv\", encoding='cp949')\n",
    "data_2022 = pd.read_csv(\"./data_dir/data2022.csv\", encoding='cp949')\n",
    "\n",
    "\n",
    "# 행복결정요인별 상관관계(히트맵)\n",
    "# avg_data_2015_to_2022 = \n",
    "corrmat2015 = data_2015.corr()\n",
    "corrmat2016 = data_2016.corr()\n",
    "corrmat2017 = data_2017.corr()\n",
    "corrmat2018 = data_2018.corr()\n",
    "corrmat2019 = data_2019.corr()\n",
    "corrmat2020 = data_2020.corr()\n",
    "corrmat2021 = data_2021.corr()\n",
    "corrmat2022 = data_2022.corr()\n",
    "\n",
    "corrmat=(corrmat2015+corrmat2016+corrmat2017+corrmat2018+corrmat2019+corrmat2020+corrmat2021+corrmat2022)/8\n",
    "\n",
    "\n",
    "sns.color_palette(\"Paired\")\n",
    "plt.figure(figsize = (8,8))\n",
    "sns.heatmap(corrmat, vmax=.8, square=True, cmap=\"PiYG\", center=0, \n",
    "            annot=True, fmt='f', linewidths=.5)\n",
    "\n",
    "# 초록색: A가 커지면 B도 커진다\n",
    "# 분홍색: A가 커지면 B는 작아진다\n",
    "# 초록색일 수록 해당 요소에 영향을 크게 미침"
   ]
  },
  {
   "attachments": {},
   "cell_type": "markdown",
   "id": "13f3fc57",
   "metadata": {},
   "source": [
    "초록색일수록 해당 요소에 영향을 크게 미침\n",
    "   \n",
    "행복지수에 가장 영향을 많이 주는건 경제성(GDP)이다.\n",
    "\n",
    "물론 경제성이 가장 영향을 주지만 인간관계, 건강 기대 수명도 많은 영향을 끼친다.\n",
    "\n",
    "경제성(GDP) : 0.78 / 인간관계 : 0.75 / 건강 기대 수명 : 0.76"
   ]
  },
  {
   "cell_type": "markdown",
   "id": "15723dc0",
   "metadata": {},
   "source": [
    "## 3.2. 느낀점"
   ]
  },
  {
   "cell_type": "markdown",
   "id": "d530a383",
   "metadata": {},
   "source": [
    " 행복을 느끼는 요인은 사람마다 다르다. 개개인으로 봤을 때는 먹는 것, 쇼핑, 애완동물 등 사소한 것에도 행복감을 느끼지만 사회적으로 봤을 때는 결국 가장 큰 요인을 무엇일까 궁금했다. 당연히 경제성(GDP)가 행복을 느끼는 가장 큰 요인이라 생각되었지만 결과를 보니 경제성(GDP)뿐만 아니라 인관관계, 건강 기대 수명도 영향을 많이 주었다. 행복 = 돈 이라는 고정관념이 깨지는 놀라운 결과였다.\n",
    "\n",
    " 그리고 변화율 그래프에는 그당시 시대 상황이 잘 도드라져 보이는 것도 있고, 의외의 결과가 나온 것들도 있었다. 하나의 요인만 보는 것이 아닌 다방면으로 보아야 비로소 정확도와 신뢰도가 높은 분석을 할 수 있다는 것을 깨달았다.\n",
    "\n",
    " 본 과제를 수행함으로써 스스로 깨닫고, 얻은 점은 틀에 갇힌 사고에서 벗어나 끊임없이 의심하고, 다양한 방향으로 생각하고 분석해야 한다는 것이다."
   ]
  }
 ],
 "metadata": {
  "kernelspec": {
   "display_name": "Python 3 (ipykernel)",
   "language": "python",
   "name": "python3"
  },
  "language_info": {
   "codemirror_mode": {
    "name": "ipython",
    "version": 3
   },
   "file_extension": ".py",
   "mimetype": "text/x-python",
   "name": "python",
   "nbconvert_exporter": "python",
   "pygments_lexer": "ipython3",
   "version": "3.9.12"
  }
 },
 "nbformat": 4,
 "nbformat_minor": 5
}
